{
 "cells": [
  {
   "cell_type": "markdown",
   "metadata": {
    "id": "hTyVHdKtEdzT"
   },
   "source": [
    "### Python Built-In Methods"
   ]
  },
  {
   "cell_type": "code",
   "execution_count": null,
   "metadata": {
    "id": "ARTd-ZvVMNxQ"
   },
   "outputs": [],
   "source": [
    "from itertools import chain"
   ]
  },
  {
   "cell_type": "code",
   "execution_count": null,
   "metadata": {
    "colab": {
     "base_uri": "https://localhost:8080/"
    },
    "id": "aFVCQ7vnEiBe",
    "outputId": "fc1daab0-d9a1-47d1-efe7-7c0c395d7e44"
   },
   "outputs": [
    {
     "name": "stdout",
     "output_type": "stream",
     "text": [
      "0 1 2 3 4 5 6 7 8 9 "
     ]
    }
   ],
   "source": [
    "# concatenate ranges\n",
    "new_range = chain(range(5), range(5, 10))\n",
    "for num in new_range:\n",
    "    print(num, end=\" \")"
   ]
  },
  {
   "cell_type": "code",
   "execution_count": null,
   "metadata": {
    "colab": {
     "base_uri": "https://localhost:8080/"
    },
    "id": "ABI5CenTMJXr",
    "outputId": "cd91b070-54cf-49ae-cb1f-f0126a2091b7"
   },
   "outputs": [
    {
     "name": "stdout",
     "output_type": "stream",
     "text": [
      "['a', 'd', 'e', 'f', 'i', 'k', 'l', 'n', 'o', 'p', 'u']\n"
     ]
    }
   ],
   "source": [
    "# some consonants\n",
    "consonants = [\"d\", \"f\", \"k\", \"l\", \"n\", \"p\"]\n",
    "# some vowels\n",
    "vowels = [\"a\", \"e\", \"i\", \"o\", \"u\"]\n",
    "# resultatnt list\n",
    "res = list(chain(consonants, vowels))\n",
    "\n",
    "# sorting the list\n",
    "res.sort()\n",
    "print(res)"
   ]
  },
  {
   "cell_type": "code",
   "execution_count": null,
   "metadata": {
    "colab": {
     "base_uri": "https://localhost:8080/"
    },
    "id": "i_rU0GZFMsP-",
    "outputId": "66a19ac9-2041-447d-e274-020f1c279d66"
   },
   "outputs": [
    {
     "name": "stdout",
     "output_type": "stream",
     "text": [
      "res = [1, 2, 3, 4, 5, 6, 7, 8, 9]\n",
      "\n",
      "sum = 45\n"
     ]
    }
   ],
   "source": [
    "li = [\"123\", \"456\", \"789\"]\n",
    "\n",
    "res = list(map(int, list(chain.from_iterable(li))))\n",
    "\n",
    "sum_of_li = sum(res)\n",
    "\n",
    "print(\"res =\", res, end=\"\\n\\n\")\n",
    "print(\"sum =\", sum_of_li)"
   ]
  },
  {
   "cell_type": "code",
   "execution_count": 19,
   "metadata": {
    "colab": {
     "base_uri": "https://localhost:8080/"
    },
    "id": "A0ztiRGenOSQ",
    "outputId": "af7f4b4f-0453-4709-870e-0a7dc3aa2031"
   },
   "outputs": [
    {
     "data": {
      "text/plain": [
       "{'a', 'b', 'c'}"
      ]
     },
     "execution_count": 19,
     "metadata": {},
     "output_type": "execute_result"
    }
   ],
   "source": [
    "a = {\"a\", \"b\"}\n",
    "set([\"a\", \"b\"])\n",
    "\n",
    "b = {\"b\", \"c\"}\n",
    "b\n",
    "set([\"c\", \"b\"])\n",
    "\n",
    "a |= b\n",
    "a"
   ]
  },
  {
   "cell_type": "markdown",
   "metadata": {},
   "source": [
    "<h4>Working with text</h4>"
   ]
  },
  {
   "cell_type": "markdown",
   "metadata": {
    "id": "ZFkdU7Q-_Wsy"
   },
   "source": [
    "In Python, you can create file objects with the built-in function open. When you call open, you need to specify the file name and how to open the file:\n",
    "<li>f = open (filename,method)</li>\n",
    "A filename is the name of a file that exists on disk. Common ways to \n",
    " open a file are:\n",
    "<li>\"r\"   # to read an existing file</li>\n",
    "<li>“w” # create a new file and write</li>\n",
    "<li>“a” # if the file exists, write to the end of the file. If the file does not exist, a new file is created and written”</li>\n",
    "\n"
   ]
  },
  {
   "cell_type": "code",
   "execution_count": 21,
   "metadata": {},
   "outputs": [],
   "source": [
    "import os"
   ]
  },
  {
   "cell_type": "code",
   "execution_count": 22,
   "metadata": {},
   "outputs": [],
   "source": [
    "f = open(\"harrypotter.txt\", \"w\")\n",
    "f.write(\"This is hogwarts\")\n",
    "f.write(\" This is the chamber of secrets \\n\")\n",
    "f.close()"
   ]
  },
  {
   "cell_type": "code",
   "execution_count": 23,
   "metadata": {},
   "outputs": [
    {
     "name": "stdout",
     "output_type": "stream",
     "text": [
      "This is hogwarts This is the chamber of secrets \n",
      "\n"
     ]
    }
   ],
   "source": [
    "f = open(\"harrypotter.txt\", \"r\")\n",
    "content = f.read()\n",
    "print(content)\n",
    "f.close()"
   ]
  },
  {
   "cell_type": "code",
   "execution_count": 24,
   "metadata": {},
   "outputs": [
    {
     "name": "stdout",
     "output_type": "stream",
     "text": [
      "False\n",
      "True\n"
     ]
    }
   ],
   "source": [
    "f = open(\"Ron.txt\", \"w\")\n",
    "print(f.closed)\n",
    "f.write(\"I love Quidditch\")\n",
    "f.close()\n",
    "print(f.closed)"
   ]
  },
  {
   "cell_type": "code",
   "execution_count": 25,
   "metadata": {},
   "outputs": [],
   "source": [
    "# delete contents of a file\n",
    "open(\"Ron.txt\", \"w\").close()\n",
    "open(\"harrypotter.txt\", \"w\").close()"
   ]
  },
  {
   "cell_type": "code",
   "execution_count": 26,
   "metadata": {},
   "outputs": [],
   "source": [
    "os.remove(\"Ron.txt\")\n",
    "os.remove(\"harrypotter.txt\")"
   ]
  },
  {
   "cell_type": "markdown",
   "metadata": {},
   "source": [
    "<h4>Using context manager</h4>"
   ]
  },
  {
   "cell_type": "code",
   "execution_count": null,
   "metadata": {},
   "outputs": [],
   "source": [
    "with open(\"readme.txt\", \"w\") as f:\n",
    "    f.write(\"Create a new text file!\")"
   ]
  },
  {
   "cell_type": "code",
   "execution_count": 27,
   "metadata": {},
   "outputs": [],
   "source": [
    "# delete file\n",
    "open(\"readme.txt\", \"w\").close()"
   ]
  },
  {
   "cell_type": "code",
   "execution_count": 28,
   "metadata": {},
   "outputs": [
    {
     "name": "stdout",
     "output_type": "stream",
     "text": [
      "True\n"
     ]
    }
   ],
   "source": [
    "with open(\"new.txt\", \"w\") as f:\n",
    "    f.write(\"Hello World!\")\n",
    "print(f.closed)"
   ]
  },
  {
   "cell_type": "code",
   "execution_count": 29,
   "metadata": {},
   "outputs": [
    {
     "name": "stdout",
     "output_type": "stream",
     "text": [
      "Hello World!\n"
     ]
    }
   ],
   "source": [
    "with open(\"new.txt\", \"r\") as f:\n",
    "    print(f.read())"
   ]
  },
  {
   "cell_type": "code",
   "execution_count": 30,
   "metadata": {},
   "outputs": [],
   "source": [
    "# delete file\n",
    "open(\"new.txt\", \"w\").close()"
   ]
  },
  {
   "cell_type": "code",
   "execution_count": 35,
   "metadata": {},
   "outputs": [],
   "source": [
    "os.remove(\"readme.txt\")\n",
    "os.remove(\"new.txt\")"
   ]
  },
  {
   "cell_type": "markdown",
   "metadata": {},
   "source": [
    "<h4>Pickle</h4>\n",
    "<p>The first step is to grab the object’s data out of memory and convert it into an ordered text, called serialization.</p>\n",
    "<p>The second step is to save the text to a file.</p>"
   ]
  },
  {
   "cell_type": "code",
   "execution_count": null,
   "metadata": {},
   "outputs": [],
   "source": [
    "import pickle"
   ]
  },
  {
   "cell_type": "code",
   "execution_count": 31,
   "metadata": {
    "id": "lBC0_qNiC_Pb"
   },
   "outputs": [],
   "source": [
    "class Animal(object):\n",
    "    have_trunk = True\n",
    "    howtheyreproduce = \"zygote\"\n",
    "\n",
    "\n",
    "# step 1: converting to string\n",
    "winter = Animal()\n",
    "pickle_string = pickle.dumps(winter)\n",
    "\n",
    "# step 2: saving as a text\n",
    "with open(\"winter.pkl\", \"wb\") as f:\n",
    "    f.write(pickle_string)"
   ]
  },
  {
   "cell_type": "code",
   "execution_count": 32,
   "metadata": {
    "id": "gKdwhU7oDo7a"
   },
   "outputs": [],
   "source": [
    "# step 1: converting to string\n",
    "winter = Animal()\n",
    "pickle_string = pickle.dumps(winter)\n",
    "\n",
    "# all at once\n",
    "with open(\"winter.pkl\", \"wb\") as f:\n",
    "    pickle.dump(winter, f)"
   ]
  },
  {
   "cell_type": "code",
   "execution_count": 33,
   "metadata": {
    "colab": {
     "base_uri": "https://localhost:8080/"
    },
    "id": "t4xOVNYiDX4B",
    "outputId": "228141bb-e205-439b-b6f4-79d712164085"
   },
   "outputs": [
    {
     "name": "stdout",
     "output_type": "stream",
     "text": [
      "True\n"
     ]
    }
   ],
   "source": [
    "# reading a file\n",
    "with open(\"winter.pkl\", \"rb\") as f:\n",
    "    winter = pickle.load(f)\n",
    "print(winter.have_trunk)"
   ]
  },
  {
   "cell_type": "code",
   "execution_count": 34,
   "metadata": {},
   "outputs": [],
   "source": [
    "os.remove(\"winter.pkl\")"
   ]
  }
 ],
 "metadata": {
  "colab": {
   "provenance": []
  },
  "kernelspec": {
   "display_name": "Python 3 (ipykernel)",
   "language": "python",
   "name": "python3"
  },
  "language_info": {
   "codemirror_mode": {
    "name": "ipython",
    "version": 3
   },
   "file_extension": ".py",
   "mimetype": "text/x-python",
   "name": "python",
   "nbconvert_exporter": "python",
   "pygments_lexer": "ipython3",
   "version": "3.9.13"
  }
 },
 "nbformat": 4,
 "nbformat_minor": 1
}
