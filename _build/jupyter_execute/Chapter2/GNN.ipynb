{
 "cells": [
  {
   "cell_type": "markdown",
   "metadata": {},
   "source": [
    "### GNN\n",
    "\n",
    "<div class=\"alert alert-block alert-info\">\n",
    "    This is an implementation from the <a href=\"https://github.com/chirag126/nifty\">NIFTY</a> project on HELOC dataset as implemented by <a href=\"https://github.com/alessandrofogli\">@alefog</a> with additional preprocessing.\n",
    "</div>"
   ]
  },
  {
   "cell_type": "code",
   "execution_count": 1,
   "metadata": {},
   "outputs": [],
   "source": [
    "import random\n",
    "import numpy as np\n",
    "\n",
    "np.random.seed(0)\n",
    "\n",
    "import pandas as pd\n",
    "import requests\n",
    "import scipy.sparse as sp\n",
    "import torch\n",
    "import torch.nn as nn\n",
    "import torch.nn.functional as F\n",
    "import torch.optim as optim\n",
    "from scipy.spatial import distance_matrix\n",
    "from sklearn.metrics import roc_auc_score\n",
    "from sklearn.neighbors import NearestNeighbors\n",
    "from torch_geometric.nn import GINConv\n",
    "from torch_geometric.utils import convert\n",
    "from typing import Tuple"
   ]
  },
  {
   "cell_type": "markdown",
   "metadata": {},
   "source": [
    "<h4>Preprocessing</h4>"
   ]
  },
  {
   "cell_type": "code",
   "execution_count": 2,
   "metadata": {},
   "outputs": [],
   "source": [
    "threshold = 0.10\n",
    "knn_k = 5"
   ]
  },
  {
   "cell_type": "code",
   "execution_count": 3,
   "metadata": {},
   "outputs": [],
   "source": [
    "def build_relationship(x, thresh=threshold):\n",
    "    df_euclid = pd.DataFrame(\n",
    "        1 / (1 + distance_matrix(x.T.T, x.T.T)), columns=x.T.columns, index=x.T.columns\n",
    "    )\n",
    "    df_euclid = df_euclid.to_numpy()\n",
    "    idx_map = []\n",
    "    for ind in range(df_euclid.shape[0]):\n",
    "        max_sim = np.sort(df_euclid[ind, :])[-2]\n",
    "        neig_id = np.where(df_euclid[ind, :] > thresh * max_sim)[0]\n",
    "        random.seed(0)\n",
    "        random.shuffle(neig_id)\n",
    "        for neig in neig_id:\n",
    "            if neig != ind:\n",
    "                idx_map.append([ind, neig])\n",
    "    idx_map = np.array(idx_map)\n",
    "    return idx_map\n",
    "\n",
    "\n",
    "def build_relationship_knn(x, k):\n",
    "    nn = NearestNeighbors(n_neighbors=k + 1, metric=\"euclidean\")\n",
    "    nn.fit(x)\n",
    "    distances, indices = nn.kneighbors(x)\n",
    "    idx_map = []\n",
    "    for i, neighbors in enumerate(indices):\n",
    "        for neighbor in neighbors[1:]:\n",
    "            idx_map.append([i, neighbor])\n",
    "    return np.array(idx_map)\n",
    "\n",
    "\n",
    "def load_dataset(dataset, edges, predict_attr, path):\n",
    "    idx_features_labels = pd.read_csv(dataset)\n",
    "    # make more generic with label binarizer\n",
    "    idx_features_labels.replace(\n",
    "        {\"RiskPerformance\": {\"Bad\": 1, \"Good\": 0}}, inplace=True\n",
    "    )\n",
    "    header = list(idx_features_labels.columns)\n",
    "    header.remove(predict_attr)\n",
    "\n",
    "    edges_unordered = requests.get(edges)\n",
    "    edges_unordered = np.array(edges_unordered.text)\n",
    "    edges_unordered = build_relationship_knn(idx_features_labels[header], k=knn_k)\n",
    "\n",
    "    features = sp.csr_matrix(idx_features_labels[header], dtype=np.float32)\n",
    "\n",
    "    labels = idx_features_labels[predict_attr].values\n",
    "    idx = np.arange(features.shape[0])\n",
    "    idx_map = {j: i for i, j in enumerate(idx)}\n",
    "    \n",
    "    edges = np.array(\n",
    "        list(map(idx_map.get, edges_unordered.flatten())), dtype=int\n",
    "    ).reshape(edges_unordered.shape)\n",
    "    adj = sp.coo_matrix(\n",
    "        (np.ones(edges.shape[0]), (edges[:, 0], edges[:, 1])),\n",
    "        shape=(labels.shape[0], labels.shape[0]),\n",
    "        dtype=np.float32,\n",
    "    )\n",
    "    \n",
    "    adj = adj + adj.T.multiply(adj.T > adj) - adj.multiply(adj.T > adj)\n",
    "    adj = adj + sp.eye(adj.shape[0])\n",
    "    \n",
    "    features = torch.FloatTensor(np.array(features.todense()))\n",
    "    labels = torch.LongTensor(labels)\n",
    "    \n",
    "    random.seed(0)\n",
    "    label_idx_0 = np.where(labels == 0)[0]\n",
    "    label_idx_1 = np.where(labels == 1)[0]\n",
    "    random.shuffle(label_idx_0)\n",
    "    random.shuffle(label_idx_1)\n",
    "        \n",
    "    num_label_1_test = int(label_idx_1.size * 0.3)\n",
    "    num_label_0_test = int(label_idx_0.size * 0.3)\n",
    "    num_label_1_train = label_idx_1.size - num_label_1_test\n",
    "    num_label_0_train = label_idx_0.size - num_label_0_test\n",
    "    idx_train_1 = label_idx_1[:num_label_1_train]\n",
    "    idx_test_1 = label_idx_1[num_label_1_train : num_label_1_train + num_label_1_test]\n",
    "    idx_train_0 = label_idx_0[:num_label_0_train]\n",
    "    idx_test_0 = label_idx_0[num_label_0_train : num_label_0_train + num_label_0_test]\n",
    "    idx_train = np.concatenate((idx_train_0, idx_train_1))\n",
    "    idx_test = np.concatenate((idx_test_0, idx_test_1))\n",
    "    \n",
    "    random.seed(90)\n",
    "    random.shuffle(idx_train)\n",
    "    random.shuffle(idx_test)\n",
    "    \n",
    "    idx_train = torch.LongTensor(idx_train)\n",
    "    idx_test = torch.LongTensor(idx_test)\n",
    "    \n",
    "    return adj, features, labels, idx_train, idx_test"
   ]
  },
  {
   "cell_type": "markdown",
   "metadata": {},
   "source": [
    "<h4>Load data</h4>"
   ]
  },
  {
   "cell_type": "code",
   "execution_count": 4,
   "metadata": {},
   "outputs": [],
   "source": [
    "# Load data\n",
    "predict_attr = \"RiskPerformance\"\n",
    "path_heloc = (\n",
    "    \"https://raw.githubusercontent.com/alessandrofogli/\"\n",
    "    \"Exploring-the-Potential-of-Graph-Neural-Networks-for-Credit-Scoring\"\n",
    "    \"/main/data/FICO\"\n",
    ")\n",
    "adj, features, labels, idx_train, idx_test = load_dataset(\n",
    "    f\"{path_heloc}/heloc.csv\",\n",
    "    f\"{path_heloc}/heloc_edges.txt\",\n",
    "    predict_attr,\n",
    "    path=path_heloc\n",
    ")"
   ]
  },
  {
   "cell_type": "markdown",
   "metadata": {},
   "source": [
    "<h4>Setup device</h4>"
   ]
  },
  {
   "cell_type": "code",
   "execution_count": 5,
   "metadata": {},
   "outputs": [],
   "source": [
    "seed = 0\n",
    "device = torch.device(\"cuda\" if torch.cuda.is_available() else \"cpu\")\n",
    "torch.manual_seed(seed)\n",
    "torch.cuda.manual_seed(seed)\n",
    "random.seed(seed)\n",
    "np.random.seed(seed)"
   ]
  },
  {
   "cell_type": "markdown",
   "metadata": {},
   "source": [
    "<h4>Feature preprocessing (XGBoost)</h4>"
   ]
  },
  {
   "cell_type": "code",
   "execution_count": 6,
   "metadata": {},
   "outputs": [],
   "source": [
    "from sklearn.model_selection import train_test_split\n",
    "import xgboost as xgb\n",
    "from xgboost import XGBClassifier"
   ]
  },
  {
   "cell_type": "code",
   "execution_count": 7,
   "metadata": {},
   "outputs": [],
   "source": [
    "X = pd.DataFrame(features.numpy().copy())\n",
    "X.columns = [f\"feature_{i+1}\" for i in range(len(X.columns))]\n",
    "y = pd.Series(labels.numpy().copy())\n",
    "\n",
    "idx_train_xgb, idx_test_xgb = train_test_split(\n",
    "    X.index,\n",
    "    stratify=y,\n",
    "    test_size=0.3,\n",
    "    random_state=0\n",
    ")"
   ]
  },
  {
   "cell_type": "code",
   "execution_count": 8,
   "metadata": {},
   "outputs": [
    {
     "name": "stdout",
     "output_type": "stream",
     "text": [
      "0.6058592739372641\n",
      "0.5902047212047212\n"
     ]
    }
   ],
   "source": [
    "n_estimators = 100\n",
    "\n",
    "xgb_model = XGBClassifier(\n",
    "    n_estimators=n_estimators, \n",
    "    max_depth=7,\n",
    "    learning_rate=0.3,\n",
    "    base_score=0.5,\n",
    "    tree_method=\"hist\", \n",
    "    objective=\"binary:logistic\",\n",
    "    max_leaves=5,\n",
    "    reg_alpha=50,\n",
    "    reg_lambda=30,\n",
    "    colsample_bytree=0.5,\n",
    "    n_jobs=3, \n",
    "    random_state=0\n",
    ")\n",
    "\n",
    "xgb_model.fit(features[idx_train_xgb], labels[idx_train_xgb])\n",
    "\n",
    "auc_score = roc_auc_score(\n",
    "    labels[idx_train_xgb],\n",
    "    xgb_model.predict_proba(features[idx_train_xgb])[:, 1]\n",
    ")\n",
    "print(auc_score*2-1)\n",
    "\n",
    "auc_score = roc_auc_score(\n",
    "    labels[idx_test_xgb],\n",
    "    xgb_model.predict_proba(features[idx_test_xgb])[:, 1]\n",
    ")\n",
    "print(auc_score*2-1)"
   ]
  },
  {
   "cell_type": "code",
   "execution_count": 9,
   "metadata": {},
   "outputs": [],
   "source": [
    "# Create a list to store the margins for each tree\n",
    "tree_margins = []\n",
    "\n",
    "# Tree iteration\n",
    "for i in range(n_estimators):\n",
    "    margins = xgb_model.predict(\n",
    "        X, \n",
    "        output_margin=True,\n",
    "        base_margin=np.zeros(X.shape[0]),\n",
    "        iteration_range=(i, i+1)\n",
    "    )\n",
    "    tree_margins.append(margins)\n",
    "\n",
    "# Create a DataFrame with the margins for each tree\n",
    "leaf_predictions = pd.DataFrame(tree_margins).T\n",
    "leaf_predictions.index = y.index\n",
    "\n",
    "# Assign column names if needed\n",
    "leaf_predictions.columns = [f\"tree_{i+1}\" for i in range(100)]"
   ]
  },
  {
   "cell_type": "code",
   "execution_count": 12,
   "metadata": {},
   "outputs": [],
   "source": [
    "features_tree = sp.csr_matrix(leaf_predictions, dtype=np.float32)\n",
    "features_tree = torch.FloatTensor(np.array(features_tree.todense())).to(device)\n",
    "features_tree = features_tree.to(device)"
   ]
  },
  {
   "cell_type": "markdown",
   "metadata": {},
   "source": [
    "<h4>Model</h4>"
   ]
  },
  {
   "cell_type": "code",
   "execution_count": 13,
   "metadata": {},
   "outputs": [],
   "source": [
    "edge_index = convert.from_scipy_sparse_matrix(adj)[0]\n",
    "edge_index = edge_index.to(device)\n",
    "num_class = labels.unique().shape[0] - 1\n",
    "nfeat = features_tree.shape[1] # features.shape[1]\n",
    "features = features.to(device)\n",
    "labels = labels.to(device)"
   ]
  },
  {
   "cell_type": "code",
   "execution_count": 14,
   "metadata": {},
   "outputs": [],
   "source": [
    "class GIN(nn.Module):\n",
    "    def __init__(self, nfeat, nhid, nclass, dropout):\n",
    "        super(GIN, self).__init__()\n",
    "\n",
    "        self.mlp1 = nn.Sequential(\n",
    "            nn.Linear(nfeat, nhid),\n",
    "            nn.Sigmoid(), # nn.ReLU(),\n",
    "            nn.BatchNorm1d(nhid),\n",
    "            nn.Linear(nhid, nhid),\n",
    "            nn.Sigmoid(), # nn.ReLU(),\n",
    "            nn.BatchNorm1d(nhid),\n",
    "        )\n",
    "        self.conv1 = GINConv(self.mlp1)\n",
    "        self.fc = nn.Linear(nhid, nclass)\n",
    "        self.dropout = nn.Dropout(dropout)\n",
    "\n",
    "        self.init_weights()\n",
    "\n",
    "    def init_weights(self):\n",
    "        for m in self.modules():\n",
    "            if isinstance(m, nn.Linear):\n",
    "                nn.init.xavier_uniform_(m.weight.data)\n",
    "                if m.bias is not None:\n",
    "                    m.bias.data.fill_(1.0)\n",
    "\n",
    "    def forward(self, x, edge_index):\n",
    "        x = self.conv1(x, edge_index)\n",
    "        x = self.dropout(x)\n",
    "        x = self.fc(x)\n",
    "        return x"
   ]
  },
  {
   "cell_type": "code",
   "execution_count": 15,
   "metadata": {},
   "outputs": [],
   "source": [
    "def train_and_evaluate(\n",
    "    model: nn.Module,\n",
    "    optimizer: optim.Optimizer,\n",
    "    features: torch.Tensor,\n",
    "    edge_index: torch.Tensor,\n",
    "    labels: torch.Tensor,\n",
    "    idx_train: torch.Tensor,\n",
    "    idx_test: torch.Tensor,\n",
    "    device: torch.device,\n",
    "    num_epochs: int\n",
    ") -> Tuple[float, float]:\n",
    "    \"\"\"\n",
    "    Train and evaluate the GNN model.\n",
    "\n",
    "    Args:\n",
    "        model (torch.nn.Module): The GNN model.\n",
    "        optimizer (torch.optim.Optimizer): The optimizer.\n",
    "        features (torch.Tensor): The input features.\n",
    "        edge_index (torch.Tensor): The edge index tensor.\n",
    "        labels (torch.Tensor): The ground truth labels.\n",
    "        idx_train (torch.Tensor): The indices of the training set.\n",
    "        idx_test (torch.Tensor): The indices of the test set.\n",
    "        device (torch.device): The device (CPU or GPU) to run the computation.\n",
    "        num_epochs (int): The number of training epochs.\n",
    "\n",
    "    Returns:\n",
    "        Tuple[float, float]: A tuple of the AUC scores for the training and test sets.\n",
    "    \"\"\"\n",
    "    \n",
    "    for epoch in range(num_epochs):\n",
    "        model.train()\n",
    "        optimizer.zero_grad()\n",
    "        output = model(features, edge_index)\n",
    "        loss_train = F.binary_cross_entropy_with_logits(\n",
    "            output[idx_train], labels[idx_train].unsqueeze(1).float().to(device)\n",
    "        )\n",
    "        loss_train.backward()\n",
    "        optimizer.step()\n",
    "\n",
    "    model.eval()\n",
    "    with torch.no_grad():\n",
    "        output_train = model(features, edge_index)[idx_train]\n",
    "        output_test = model(features, edge_index)[idx_test]\n",
    "\n",
    "    auc_train = roc_auc_score(\n",
    "        labels[idx_train].cpu().numpy(), torch.sigmoid(output_train).cpu().numpy()\n",
    "    )\n",
    "    auc_test = roc_auc_score(\n",
    "        labels[idx_test].cpu().numpy(), torch.sigmoid(output_test).cpu().numpy()\n",
    "    )\n",
    "\n",
    "    return auc_train, auc_test"
   ]
  },
  {
   "cell_type": "code",
   "execution_count": 16,
   "metadata": {},
   "outputs": [
    {
     "name": "stderr",
     "output_type": "stream",
     "text": [
      "[I 2023-11-06 14:46:04,154] A new study created in memory with name: no-name-8b02d7dd-08f9-43e7-9729-81f309d67412\n",
      "/Users/deburky/Library/Caches/pypoetry/virtualenvs/risk-practitioner-ebook-NcspVTUP-py3.10/lib/python3.10/site-packages/optuna/trial/_trial.py:651: UserWarning: Fixed parameter 'nhid' with value 16 is out of range for distribution IntDistribution(high=128, log=False, low=32, step=1).\n",
      "  warnings.warn(\n"
     ]
    },
    {
     "name": "stdout",
     "output_type": "stream",
     "text": [
      "Created new study.\n"
     ]
    },
    {
     "name": "stderr",
     "output_type": "stream",
     "text": [
      "[I 2023-11-06 14:46:05,051] Trial 0 finished with value: 0.5759487351427381 and parameters: {'dropout': 0.5, 'nhid': 16, 'lr': 0.001, 'weight_decay': 1e-05}. Best is trial 0 with value: 0.5759487351427381.\n",
      "[I 2023-11-06 14:46:06,390] Trial 1 finished with value: 0.5632437245550238 and parameters: {'dropout': 0.485, 'nhid': 101, 'lr': 0.0006431172050131992, 'weight_decay': 0.0005453382998139001}. Best is trial 0 with value: 0.5759487351427381.\n",
      "[I 2023-11-06 14:46:07,652] Trial 2 finished with value: 0.5636536003439161 and parameters: {'dropout': 0.395, 'nhid': 94, 'lr': 0.00020547625125911338, 'weight_decay': 0.0008918812277812978}. Best is trial 0 with value: 0.5759487351427381.\n",
      "[I 2023-11-06 14:46:08,826] Trial 3 finished with value: 0.571885169456479 and parameters: {'dropout': 0.775, 'nhid': 69, 'lr': 0.0023723300729921923, 'weight_decay': 0.0005293660248331517}. Best is trial 0 with value: 0.5759487351427381.\n",
      "[I 2023-11-06 14:46:10,267] Trial 4 finished with value: 0.19121811169182953 and parameters: {'dropout': 0.5, 'nhid': 121, 'lr': 1.633458761106948e-05, 'weight_decay': 8.804217040183917e-05}. Best is trial 0 with value: 0.5759487351427381.\n",
      "[I 2023-11-06 14:46:11,599] Trial 5 finished with value: 0.5637529446187912 and parameters: {'dropout': 0.11, 'nhid': 112, 'lr': 0.002160082074140205, 'weight_decay': 0.0008701421360985725}. Best is trial 0 with value: 0.5759487351427381.\n",
      "[I 2023-11-06 14:46:13,040] Trial 6 finished with value: 0.5674100704234588 and parameters: {'dropout': 0.785, 'nhid': 109, 'lr': 0.00024234724484675926, 'weight_decay': 0.0007807486471101691}. Best is trial 0 with value: 0.5759487351427381.\n",
      "[I 2023-11-06 14:46:14,367] Trial 7 finished with value: 0.3963268936322647 and parameters: {'dropout': 0.18, 'nhid': 94, 'lr': 2.6919058249260695e-05, 'weight_decay': 0.0009447242481325345}. Best is trial 0 with value: 0.5759487351427381.\n",
      "[I 2023-11-06 14:46:15,591] Trial 8 finished with value: 0.5464750157841076 and parameters: {'dropout': 0.46499999999999997, 'nhid': 72, 'lr': 6.218230782016852e-05, 'weight_decay': 0.0007744594557447825}. Best is trial 0 with value: 0.5759487351427381.\n",
      "[I 2023-11-06 14:46:16,966] Trial 9 finished with value: 0.031645053791526316 and parameters: {'dropout': 0.42000000000000004, 'nhid': 87, 'lr': 1.1385953381489408e-05, 'weight_decay': 0.0006180178615788013}. Best is trial 0 with value: 0.5759487351427381.\n",
      "[I 2023-11-06 14:46:17,940] Trial 10 finished with value: 0.5670732004809547 and parameters: {'dropout': 0.64, 'nhid': 34, 'lr': 0.007216635702812183, 'weight_decay': 2.1025797331270055e-05}. Best is trial 0 with value: 0.5759487351427381.\n",
      "[I 2023-11-06 14:46:18,905] Trial 11 finished with value: 0.5778559520440971 and parameters: {'dropout': 0.765, 'nhid': 32, 'lr': 0.001711558796951975, 'weight_decay': 0.0002891378553830189}. Best is trial 11 with value: 0.5778559520440971.\n",
      "[I 2023-11-06 14:46:19,885] Trial 12 finished with value: 0.573865962751992 and parameters: {'dropout': 0.645, 'nhid': 35, 'lr': 0.0010031538187928713, 'weight_decay': 0.00025165825096247946}. Best is trial 11 with value: 0.5778559520440971.\n",
      "[I 2023-11-06 14:46:20,907] Trial 13 finished with value: 0.563883357352536 and parameters: {'dropout': 0.28, 'nhid': 52, 'lr': 0.004809420660529726, 'weight_decay': 0.0002644227597293367}. Best is trial 11 with value: 0.5778559520440971.\n",
      "[I 2023-11-06 14:46:22,003] Trial 14 finished with value: 0.55604530668746 and parameters: {'dropout': 0.63, 'nhid': 49, 'lr': 0.0007074624905651121, 'weight_decay': 0.00030575736618023233}. Best is trial 11 with value: 0.5778559520440971.\n",
      "[I 2023-11-06 14:46:23,083] Trial 15 finished with value: 0.566547092290008 and parameters: {'dropout': 0.5750000000000001, 'nhid': 47, 'lr': 0.0019944093242273498, 'weight_decay': 0.00013587628858637805}. Best is trial 11 with value: 0.5778559520440971.\n",
      "[I 2023-11-06 14:46:23,974] Trial 16 finished with value: 0.5677649630696817 and parameters: {'dropout': 0.29500000000000004, 'nhid': 32, 'lr': 0.008805407259112339, 'weight_decay': 0.00040489530359849493}. Best is trial 11 with value: 0.5778559520440971.\n",
      "[I 2023-11-06 14:46:25,114] Trial 17 finished with value: 0.5675660258167539 and parameters: {'dropout': 0.72, 'nhid': 60, 'lr': 0.0003487579030765675, 'weight_decay': 0.00018858577758321124}. Best is trial 11 with value: 0.5778559520440971.\n",
      "[I 2023-11-06 14:46:26,381] Trial 18 finished with value: 0.5603569512774704 and parameters: {'dropout': 0.335, 'nhid': 43, 'lr': 0.0033981958615031775, 'weight_decay': 5.026861977554969e-06}. Best is trial 11 with value: 0.5778559520440971.\n",
      "[I 2023-11-06 14:46:27,732] Trial 19 finished with value: 0.5724642253841159 and parameters: {'dropout': 0.545, 'nhid': 61, 'lr': 0.0009973533769692085, 'weight_decay': 0.00038500886212232605}. Best is trial 11 with value: 0.5778559520440971.\n"
     ]
    }
   ],
   "source": [
    "import optuna\n",
    "from optuna.samplers import TPESampler\n",
    "\n",
    "num_epochs=50\n",
    "\n",
    "def objective(trial):\n",
    "    \n",
    "    # Define the hyperparameters to tune\n",
    "    dropout = trial.suggest_float('dropout', 0.1, 0.8, step=0.005)\n",
    "    nhid = trial.suggest_int('nhid', 32, 128)\n",
    "    lr = trial.suggest_float('lr', 1e-5, 1e-2, log=True)\n",
    "    weight_decay = trial.suggest_float('weight_decay', 1e-6, 1e-3)\n",
    "\n",
    "    # Create the model with the specified hyperparameters\n",
    "    model = GIN(nfeat, nhid, num_class, dropout)\n",
    "    model.to(device)\n",
    "    optimizer = optim.Adam(model.parameters(), lr=lr, weight_decay=weight_decay)\n",
    "    \n",
    "    # Train and evaluate the model\n",
    "    train_score, test_score = [\n",
    "        (score * 2 - 1) for score in train_and_evaluate(\n",
    "            model=model,\n",
    "            optimizer=optimizer,\n",
    "            features=features_tree, # features\n",
    "            edge_index=edge_index,\n",
    "            labels=labels,\n",
    "            idx_train=idx_train,\n",
    "            idx_test=idx_test,\n",
    "            device=device,\n",
    "            num_epochs=num_epochs\n",
    "        )\n",
    "    ]\n",
    "        \n",
    "    train_err = 1 - train_score\n",
    "    test_err = 1 - test_score\n",
    "    score = test_score * abs(train_err/test_err)\n",
    "\n",
    "    return score\n",
    "\n",
    "initial_params = {\n",
    "    \"dropout\": 0.5,\n",
    "    \"nhid\": 16, \n",
    "    \"lr\": 1e-3,\n",
    "    \"weight_decay\": 1e-5\n",
    "}\n",
    "\n",
    "sampler = TPESampler(seed=seed)\n",
    "study = optuna.create_study(direction='maximize', sampler=sampler)\n",
    "study.enqueue_trial(initial_params)\n",
    "print(\"Created new study.\")\n",
    "    \n",
    "study.optimize(objective, n_trials=20)\n",
    "best_params = study.best_params\n",
    "best_gini = study.best_value\n"
   ]
  },
  {
   "cell_type": "code",
   "execution_count": 17,
   "metadata": {},
   "outputs": [
    {
     "name": "stdout",
     "output_type": "stream",
     "text": [
      "Train Gini score: 57.05%\n",
      "Test Gini score: 57.04%\n"
     ]
    }
   ],
   "source": [
    "model = GIN(\n",
    "    nfeat=nfeat,\n",
    "    nhid=best_params[\"nhid\"],\n",
    "    nclass=num_class,\n",
    "    dropout=best_params[\"dropout\"],\n",
    ")\n",
    "\n",
    "model.to(device)\n",
    "\n",
    "# Train model\n",
    "optimizer = optim.Adam(\n",
    "    model.parameters(),\n",
    "    lr=best_params[\"lr\"], \n",
    "    weight_decay=best_params[\"weight_decay\"]\n",
    ")\n",
    "\n",
    "num_epochs = 87\n",
    "auc_train, auc_test = train_and_evaluate(\n",
    "    model=model,\n",
    "    optimizer=optimizer,\n",
    "    features=features_tree, # features\n",
    "    edge_index=edge_index,\n",
    "    labels=labels,\n",
    "    idx_train=idx_train,\n",
    "    idx_test=idx_test,\n",
    "    device=device,\n",
    "    num_epochs=num_epochs\n",
    ")\n",
    "\n",
    "print(\n",
    "    f\"Train Gini score: {auc_train*2-1:.2%}\\n\"\n",
    "    f\"Test Gini score: {auc_test*2-1:.2%}\"\n",
    ")"
   ]
  },
  {
   "cell_type": "markdown",
   "metadata": {},
   "source": [
    "<h4> Visualize the graph network </h4>"
   ]
  },
  {
   "cell_type": "code",
   "execution_count": 15,
   "metadata": {},
   "outputs": [
    {
     "data": {
      "image/png": "[encoded data removed]",
      "text/plain": [
       "<Figure size 640x480 with 1 Axes>"
      ]
     },
     "metadata": {},
     "output_type": "display_data"
    }
   ],
   "source": [
    "import networkx as nx\n",
    "from matplotlib import pyplot as plt\n",
    "%matplotlib inline\n",
    "\n",
    "# Subsample data for plotting\n",
    "num_observations = 9000\n",
    "features_nx = features_woe[:num_observations]\n",
    "labels_nx = labels[:num_observations]\n",
    "adj_nx = adj[:num_observations, :num_observations]\n",
    "\n",
    "# Create a list of node IDs by using the indices of the nodes dataframe\n",
    "node_ids = list(range(len(features_nx)))\n",
    "edge_pairs = [tuple(row) for row in adj_nx.toarray()]\n",
    "\n",
    "# Create a list of node IDs by using the indices of the nodes dataframe\n",
    "node_ids = list(range(len(features_nx)))\n",
    "nonzero_indices = adj_nx.nonzero()\n",
    "edge_pairs = list(zip(nonzero_indices[0], nonzero_indices[1]))\n",
    "\n",
    "# Create a graph using the node IDs and edge pairs\n",
    "G = nx.Graph()\n",
    "G.add_nodes_from(node_ids)\n",
    "G.add_edges_from(edge_pairs)\n",
    "\n",
    "node_colors = ['#ff90ff' if label == 1 else '#15b0b3' for label in labels_nx]\n",
    " \n",
    "# Draw the graph\n",
    "nx.draw(\n",
    "    G,\n",
    "    # pos=nx.spring_layout(G),\n",
    "    with_labels=False,\n",
    "    node_color=node_colors,\n",
    "    node_size=20,\n",
    "    node_shape=\"s\",\n",
    "    edge_color='white',\n",
    "    alpha=1.0,\n",
    "    width=0.01,\n",
    "    linewidths=0.01\n",
    ")\n",
    "# Draw edges\n",
    "# nx.draw_networkx_edges(\n",
    "#     G, \n",
    "#     pos=nx.spring_layout(G), \n",
    "#     style=':',\n",
    "#     width=1e-5\n",
    "# )\n",
    "plt.show()"
   ]
  }
 ],
 "metadata": {
  "kernelspec": {
   "display_name": "risk-practitioner-ebook-NcspVTUP-py3.10",
   "language": "python",
   "name": "python3"
  },
  "language_info": {
   "codemirror_mode": {
    "name": "ipython",
    "version": 3
   },
   "file_extension": ".py",
   "mimetype": "text/x-python",
   "name": "python",
   "nbconvert_exporter": "python",
   "pygments_lexer": "ipython3",
   "version": "3.10.12"
  }
 },
 "nbformat": 4,
 "nbformat_minor": 2
}