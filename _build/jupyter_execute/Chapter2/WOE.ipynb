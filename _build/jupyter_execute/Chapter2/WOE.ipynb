{
 "cells": [
  {
   "cell_type": "markdown",
   "metadata": {},
   "source": [
    "### WOE\n",
    "\n",
    "\n",
    "\n",
    "<div class=\"alert alert-block alert-info\">\n",
    "    A Weight-of-Evidence (WOE) logistic regression implementation using <a href=\"https://gnpalencia.org/optbinning/)\">OptBinning</a> library and <code>sklearn.linear_model.SGDClassifier</code>.\n",
    "</div>"
   ]
  },
  {
   "cell_type": "code",
   "execution_count": 1,
   "metadata": {},
   "outputs": [],
   "source": [
    "import numpy as np\n",
    "import pandas as pd\n",
    "from optbinning import BinningProcess\n",
    "\n",
    "np.random.seed(0)\n",
    "\n",
    "from sklearn.linear_model import SGDClassifier\n",
    "from sklearn.metrics import roc_auc_score\n",
    "from sklearn.model_selection import train_test_split\n",
    "from sklearn.pipeline import Pipeline"
   ]
  },
  {
   "cell_type": "code",
   "execution_count": 6,
   "metadata": {},
   "outputs": [],
   "source": [
    "# Fetch blended credit data\n",
    "url = (\n",
    "    \"https://drive.google.com/file/d/1LZ7K32OcocobL4jAeeVTC0O4rm0BsT-z/view?usp=sharing\"\n",
    ")\n",
    "file_id = url.split(\"/\")[-2]\n",
    "dataset = pd.read_csv(f\"https://drive.google.com/uc?id={file_id}\")\n",
    "\n",
    "X, y = dataset.drop(\"is_bad\", axis=1), dataset[\"is_bad\"]\n",
    "\n",
    "ix_train, ix_test = train_test_split(\n",
    "    X.index, stratify=y, test_size=0.3, random_state=62\n",
    ")"
   ]
  },
  {
   "cell_type": "code",
   "execution_count": 7,
   "metadata": {},
   "outputs": [
    {
     "data": {
      "text/html": [
       "<style>#sk-container-id-1 {color: black;}#sk-container-id-1 pre{padding: 0;}#sk-container-id-1 div.sk-toggleable {background-color: white;}#sk-container-id-1 label.sk-toggleable__label {cursor: pointer;display: block;width: 100%;margin-bottom: 0;padding: 0.3em;box-sizing: border-box;text-align: center;}#sk-container-id-1 label.sk-toggleable__label-arrow:before {content: \"▸\";float: left;margin-right: 0.25em;color: #696969;}#sk-container-id-1 label.sk-toggleable__label-arrow:hover:before {color: black;}#sk-container-id-1 div.sk-estimator:hover label.sk-toggleable__label-arrow:before {color: black;}#sk-container-id-1 div.sk-toggleable__content {max-height: 0;max-width: 0;overflow: hidden;text-align: left;background-color: #f0f8ff;}#sk-container-id-1 div.sk-toggleable__content pre {margin: 0.2em;color: black;border-radius: 0.25em;background-color: #f0f8ff;}#sk-container-id-1 input.sk-toggleable__control:checked~div.sk-toggleable__content {max-height: 200px;max-width: 100%;overflow: auto;}#sk-container-id-1 input.sk-toggleable__control:checked~label.sk-toggleable__label-arrow:before {content: \"▾\";}#sk-container-id-1 div.sk-estimator input.sk-toggleable__control:checked~label.sk-toggleable__label {background-color: #d4ebff;}#sk-container-id-1 div.sk-label input.sk-toggleable__control:checked~label.sk-toggleable__label {background-color: #d4ebff;}#sk-container-id-1 input.sk-hidden--visually {border: 0;clip: rect(1px 1px 1px 1px);clip: rect(1px, 1px, 1px, 1px);height: 1px;margin: -1px;overflow: hidden;padding: 0;position: absolute;width: 1px;}#sk-container-id-1 div.sk-estimator {font-family: monospace;background-color: #f0f8ff;border: 1px dotted black;border-radius: 0.25em;box-sizing: border-box;margin-bottom: 0.5em;}#sk-container-id-1 div.sk-estimator:hover {background-color: #d4ebff;}#sk-container-id-1 div.sk-parallel-item::after {content: \"\";width: 100%;border-bottom: 1px solid gray;flex-grow: 1;}#sk-container-id-1 div.sk-label:hover label.sk-toggleable__label {background-color: #d4ebff;}#sk-container-id-1 div.sk-serial::before {content: \"\";position: absolute;border-left: 1px solid gray;box-sizing: border-box;top: 0;bottom: 0;left: 50%;z-index: 0;}#sk-container-id-1 div.sk-serial {display: flex;flex-direction: column;align-items: center;background-color: white;padding-right: 0.2em;padding-left: 0.2em;position: relative;}#sk-container-id-1 div.sk-item {position: relative;z-index: 1;}#sk-container-id-1 div.sk-parallel {display: flex;align-items: stretch;justify-content: center;background-color: white;position: relative;}#sk-container-id-1 div.sk-item::before, #sk-container-id-1 div.sk-parallel-item::before {content: \"\";position: absolute;border-left: 1px solid gray;box-sizing: border-box;top: 0;bottom: 0;left: 50%;z-index: -1;}#sk-container-id-1 div.sk-parallel-item {display: flex;flex-direction: column;z-index: 1;position: relative;background-color: white;}#sk-container-id-1 div.sk-parallel-item:first-child::after {align-self: flex-end;width: 50%;}#sk-container-id-1 div.sk-parallel-item:last-child::after {align-self: flex-start;width: 50%;}#sk-container-id-1 div.sk-parallel-item:only-child::after {width: 0;}#sk-container-id-1 div.sk-dashed-wrapped {border: 1px dashed gray;margin: 0 0.4em 0.5em 0.4em;box-sizing: border-box;padding-bottom: 0.4em;background-color: white;}#sk-container-id-1 div.sk-label label {font-family: monospace;font-weight: bold;display: inline-block;line-height: 1.2em;}#sk-container-id-1 div.sk-label-container {text-align: center;}#sk-container-id-1 div.sk-container {/* jupyter's `normalize.less` sets `[hidden] { display: none; }` but bootstrap.min.css set `[hidden] { display: none !important; }` so we also need the `!important` here to be able to override the default hidden behavior on the sphinx rendered scikit-learn.org. See: https://github.com/scikit-learn/scikit-learn/issues/21755 */display: inline-block !important;position: relative;}#sk-container-id-1 div.sk-text-repr-fallback {display: none;}</style><div id=\"sk-container-id-1\" class=\"sk-top-container\"><div class=\"sk-text-repr-fallback\"><pre>Pipeline(steps=[(&#x27;binning_process&#x27;,\n",
       "                 BinningProcess(variable_names=[&#x27;external_risk_estimate&#x27;,\n",
       "                                                &#x27;months_since_oldest_trade_open&#x27;,\n",
       "                                                &#x27;months_since_most_recent_trade_open&#x27;,\n",
       "                                                &#x27;average_months_in_file&#x27;,\n",
       "                                                &#x27;num_satisfactory_trades&#x27;,\n",
       "                                                &#x27;num_trades_60_ever_2_derog_pub_rec&#x27;,\n",
       "                                                &#x27;num_trades_90_ever_2_derog_pub_rec&#x27;,\n",
       "                                                &#x27;percent_trades_never_delq&#x27;,\n",
       "                                                &#x27;months_since_most_recent_delq&#x27;,\n",
       "                                                &#x27;nu...\n",
       "                                                &#x27;total_credit_limit&#x27;,\n",
       "                                                &#x27;current_installment_accounts&#x27;,\n",
       "                                                &#x27;paid_total&#x27;,\n",
       "                                                &#x27;num_mort_accounts&#x27;,\n",
       "                                                &#x27;account_never_delinq_percent&#x27;,\n",
       "                                                &#x27;balance&#x27;,\n",
       "                                                &#x27;num_historical_failed_to_pay&#x27;,\n",
       "                                                &#x27;num_total_cc_accounts&#x27;,\n",
       "                                                &#x27;num_cc_carrying_balance&#x27;,\n",
       "                                                &#x27;age&#x27;, &#x27;monthly_income&#x27;, ...])),\n",
       "                (&#x27;logistic_regression&#x27;,\n",
       "                 SGDClassifier(alpha=0.1, eta0=0.001, l1_ratio=0.9,\n",
       "                               loss=&#x27;log_loss&#x27;, penalty=&#x27;elasticnet&#x27;,\n",
       "                               tol=None))])</pre><b>In a Jupyter environment, please rerun this cell to show the HTML representation or trust the notebook. <br />On GitHub, the HTML representation is unable to render, please try loading this page with nbviewer.org.</b></div><div class=\"sk-container\" hidden><div class=\"sk-item sk-dashed-wrapped\"><div class=\"sk-label-container\"><div class=\"sk-label sk-toggleable\"><input class=\"sk-toggleable__control sk-hidden--visually\" id=\"sk-estimator-id-1\" type=\"checkbox\" ><label for=\"sk-estimator-id-1\" class=\"sk-toggleable__label sk-toggleable__label-arrow\">Pipeline</label><div class=\"sk-toggleable__content\"><pre>Pipeline(steps=[(&#x27;binning_process&#x27;,\n",
       "                 BinningProcess(variable_names=[&#x27;external_risk_estimate&#x27;,\n",
       "                                                &#x27;months_since_oldest_trade_open&#x27;,\n",
       "                                                &#x27;months_since_most_recent_trade_open&#x27;,\n",
       "                                                &#x27;average_months_in_file&#x27;,\n",
       "                                                &#x27;num_satisfactory_trades&#x27;,\n",
       "                                                &#x27;num_trades_60_ever_2_derog_pub_rec&#x27;,\n",
       "                                                &#x27;num_trades_90_ever_2_derog_pub_rec&#x27;,\n",
       "                                                &#x27;percent_trades_never_delq&#x27;,\n",
       "                                                &#x27;months_since_most_recent_delq&#x27;,\n",
       "                                                &#x27;nu...\n",
       "                                                &#x27;total_credit_limit&#x27;,\n",
       "                                                &#x27;current_installment_accounts&#x27;,\n",
       "                                                &#x27;paid_total&#x27;,\n",
       "                                                &#x27;num_mort_accounts&#x27;,\n",
       "                                                &#x27;account_never_delinq_percent&#x27;,\n",
       "                                                &#x27;balance&#x27;,\n",
       "                                                &#x27;num_historical_failed_to_pay&#x27;,\n",
       "                                                &#x27;num_total_cc_accounts&#x27;,\n",
       "                                                &#x27;num_cc_carrying_balance&#x27;,\n",
       "                                                &#x27;age&#x27;, &#x27;monthly_income&#x27;, ...])),\n",
       "                (&#x27;logistic_regression&#x27;,\n",
       "                 SGDClassifier(alpha=0.1, eta0=0.001, l1_ratio=0.9,\n",
       "                               loss=&#x27;log_loss&#x27;, penalty=&#x27;elasticnet&#x27;,\n",
       "                               tol=None))])</pre></div></div></div><div class=\"sk-serial\"><div class=\"sk-item\"><div class=\"sk-estimator sk-toggleable\"><input class=\"sk-toggleable__control sk-hidden--visually\" id=\"sk-estimator-id-2\" type=\"checkbox\" ><label for=\"sk-estimator-id-2\" class=\"sk-toggleable__label sk-toggleable__label-arrow\">BinningProcess</label><div class=\"sk-toggleable__content\"><pre>BinningProcess(variable_names=[&#x27;external_risk_estimate&#x27;,\n",
       "                               &#x27;months_since_oldest_trade_open&#x27;,\n",
       "                               &#x27;months_since_most_recent_trade_open&#x27;,\n",
       "                               &#x27;average_months_in_file&#x27;,\n",
       "                               &#x27;num_satisfactory_trades&#x27;,\n",
       "                               &#x27;num_trades_60_ever_2_derog_pub_rec&#x27;,\n",
       "                               &#x27;num_trades_90_ever_2_derog_pub_rec&#x27;,\n",
       "                               &#x27;percent_trades_never_delq&#x27;,\n",
       "                               &#x27;months_since_most_recent_delq&#x27;,\n",
       "                               &#x27;num_trades_open_in_last_12m&#x27;,\n",
       "                               &#x27;months_...\n",
       "                               &#x27;net_fraction_install_burden&#x27;,\n",
       "                               &#x27;num_bank_2_natl_trades_w_high_utilization&#x27;,\n",
       "                               &#x27;debt_to_income&#x27;, &#x27;emp_length&#x27;, &#x27;loan_amount&#x27;,\n",
       "                               &#x27;total_credit_limit&#x27;,\n",
       "                               &#x27;current_installment_accounts&#x27;, &#x27;paid_total&#x27;,\n",
       "                               &#x27;num_mort_accounts&#x27;,\n",
       "                               &#x27;account_never_delinq_percent&#x27;, &#x27;balance&#x27;,\n",
       "                               &#x27;num_historical_failed_to_pay&#x27;,\n",
       "                               &#x27;num_total_cc_accounts&#x27;,\n",
       "                               &#x27;num_cc_carrying_balance&#x27;, &#x27;age&#x27;,\n",
       "                               &#x27;monthly_income&#x27;, ...])</pre></div></div></div><div class=\"sk-item\"><div class=\"sk-estimator sk-toggleable\"><input class=\"sk-toggleable__control sk-hidden--visually\" id=\"sk-estimator-id-3\" type=\"checkbox\" ><label for=\"sk-estimator-id-3\" class=\"sk-toggleable__label sk-toggleable__label-arrow\">SGDClassifier</label><div class=\"sk-toggleable__content\"><pre>SGDClassifier(alpha=0.1, eta0=0.001, l1_ratio=0.9, loss=&#x27;log_loss&#x27;,\n",
       "              penalty=&#x27;elasticnet&#x27;, tol=None)</pre></div></div></div></div></div></div></div>"
      ],
      "text/plain": [
       "Pipeline(steps=[('binning_process',\n",
       "                 BinningProcess(variable_names=['external_risk_estimate',\n",
       "                                                'months_since_oldest_trade_open',\n",
       "                                                'months_since_most_recent_trade_open',\n",
       "                                                'average_months_in_file',\n",
       "                                                'num_satisfactory_trades',\n",
       "                                                'num_trades_60_ever_2_derog_pub_rec',\n",
       "                                                'num_trades_90_ever_2_derog_pub_rec',\n",
       "                                                'percent_trades_never_delq',\n",
       "                                                'months_since_most_recent_delq',\n",
       "                                                'nu...\n",
       "                                                'total_credit_limit',\n",
       "                                                'current_installment_accounts',\n",
       "                                                'paid_total',\n",
       "                                                'num_mort_accounts',\n",
       "                                                'account_never_delinq_percent',\n",
       "                                                'balance',\n",
       "                                                'num_historical_failed_to_pay',\n",
       "                                                'num_total_cc_accounts',\n",
       "                                                'num_cc_carrying_balance',\n",
       "                                                'age', 'monthly_income', ...])),\n",
       "                ('logistic_regression',\n",
       "                 SGDClassifier(alpha=0.1, eta0=0.001, l1_ratio=0.9,\n",
       "                               loss='log_loss', penalty='elasticnet',\n",
       "                               tol=None))])"
      ]
     },
     "execution_count": 7,
     "metadata": {},
     "output_type": "execute_result"
    }
   ],
   "source": [
    "# Perform WOE binning\n",
    "binning_process = BinningProcess(list(X.columns))\n",
    "\n",
    "# Train a pipeline with logistic regression\n",
    "woe_pipeline = Pipeline(\n",
    "    steps=[\n",
    "        (\"binning_process\", binning_process),\n",
    "        (\n",
    "            \"logistic_regression\",\n",
    "            SGDClassifier(\n",
    "                loss=\"log_loss\",\n",
    "                penalty=\"elasticnet\",\n",
    "                l1_ratio=0.9,\n",
    "                alpha=0.1,\n",
    "                learning_rate=\"optimal\",\n",
    "                eta0=1e-3,\n",
    "                tol=None,\n",
    "            ),\n",
    "        ),\n",
    "    ]\n",
    ")\n",
    "\n",
    "bias_init = np.log(y.loc[ix_train].mean())\n",
    "coef_init = np.array([-1.0] * len(X.columns))\n",
    "\n",
    "kwargs = {\n",
    "    woe_pipeline.steps[-1][0] + \"__intercept_init\": bias_init,\n",
    "    woe_pipeline.steps[-1][0] + \"__coef_init\": coef_init,\n",
    "}\n",
    "\n",
    "woe_pipeline.fit(X.loc[ix_train], y.loc[ix_train].values.ravel(), **kwargs)"
   ]
  },
  {
   "cell_type": "code",
   "execution_count": 8,
   "metadata": {},
   "outputs": [
    {
     "name": "stdout",
     "output_type": "stream",
     "text": [
      "Train Gini score: 64.96%\n",
      "Test Gini score: 63.44%\n"
     ]
    }
   ],
   "source": [
    "predictions_trn = woe_pipeline.predict_proba(X.loc[ix_train])[:, 1]\n",
    "predictions_tst = woe_pipeline.predict_proba(X.loc[ix_test])[:, 1]\n",
    "\n",
    "gini_trn = roc_auc_score(y.loc[ix_train], predictions_trn) * 2 - 1\n",
    "gini_tst = roc_auc_score(y.loc[ix_test], predictions_tst) * 2 - 1\n",
    "\n",
    "print(f\"Train Gini score: {gini_trn:.2%}\\n\" f\"Test Gini score: {gini_tst:.2%}\")"
   ]
  }
 ],
 "metadata": {
  "kernelspec": {
   "display_name": "risk-practitioner-ebook-NcspVTUP-py3.10",
   "language": "python",
   "name": "python3"
  },
  "language_info": {
   "codemirror_mode": {
    "name": "ipython",
    "version": 3
   },
   "file_extension": ".py",
   "mimetype": "text/x-python",
   "name": "python",
   "nbconvert_exporter": "python",
   "pygments_lexer": "ipython3",
   "version": "3.10.12"
  }
 },
 "nbformat": 4,
 "nbformat_minor": 2
}