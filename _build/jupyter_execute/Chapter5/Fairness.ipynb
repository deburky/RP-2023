{
 "cells": [
  {
   "cell_type": "markdown",
   "metadata": {},
   "source": [
    "### Fairness"
   ]
  },
  {
   "cell_type": "code",
   "execution_count": 25,
   "metadata": {},
   "outputs": [],
   "source": [
    "import numpy as np\n",
    "import pandas as pd\n",
    "import optuna\n",
    "\n",
    "np.random.seed(0)\n",
    "\n",
    "from sklearn.model_selection import train_test_split\n",
    "from sklearn.metrics import accuracy_score, roc_auc_score\n",
    "from sklearn.model_selection import StratifiedKFold\n",
    "from xgboost import XGBClassifier"
   ]
  },
  {
   "cell_type": "code",
   "execution_count": 26,
   "metadata": {},
   "outputs": [],
   "source": [
    "# Fetch loan approval data (synthesized)\n",
    "url = (\n",
    "    \"https://drive.google.com/file/d/1r6gGvL_s313ThGSU7ziZiuYr2G_yijaZ/view?usp=sharing\"\n",
    ")\n",
    "file_id = url.split(\"/\")[-2]\n",
    "dataset = pd.read_csv(f\"https://drive.google.com/uc?id={file_id}\")"
   ]
  },
  {
   "cell_type": "code",
   "execution_count": 27,
   "metadata": {},
   "outputs": [
    {
     "name": "stdout",
     "output_type": "stream",
     "text": [
      "0.1776\n"
     ]
    }
   ],
   "source": [
    "sensitive_columns = [\"Gender\"]\n",
    "condition_gender = dataset[\"Gender\"] == \"Female\"\n",
    "\n",
    "categorical_features = [\n",
    "    \"Married\",\n",
    "    \"Dependents\",\n",
    "    \"Education\",\n",
    "    \"Self_Employed\",\n",
    "    \"Property_Area\",\n",
    "]\n",
    "\n",
    "dataset[\"Sensitive_Group\"] = np.where(condition_gender, 1, 0)\n",
    "print(dataset[\"Sensitive_Group\"].mean())\n",
    "\n",
    "dataset[\"Loan_Status\"] = np.where(dataset[\"Loan_Status\"].isin([\"Y\"]), 1, 0)"
   ]
  },
  {
   "cell_type": "code",
   "execution_count": 28,
   "metadata": {},
   "outputs": [
    {
     "data": {
      "text/html": [
       "<div>\n",
       "<style scoped>\n",
       "    .dataframe tbody tr th:only-of-type {\n",
       "        vertical-align: middle;\n",
       "    }\n",
       "\n",
       "    .dataframe tbody tr th {\n",
       "        vertical-align: top;\n",
       "    }\n",
       "\n",
       "    .dataframe thead th {\n",
       "        text-align: right;\n",
       "    }\n",
       "</style>\n",
       "<table border=\"1\" class=\"dataframe\">\n",
       "  <thead>\n",
       "    <tr style=\"text-align: right;\">\n",
       "      <th></th>\n",
       "      <th>approval_rate</th>\n",
       "    </tr>\n",
       "    <tr>\n",
       "      <th>Gender</th>\n",
       "      <th></th>\n",
       "    </tr>\n",
       "  </thead>\n",
       "  <tbody>\n",
       "    <tr>\n",
       "      <th>Female</th>\n",
       "      <td>0.640203</td>\n",
       "    </tr>\n",
       "    <tr>\n",
       "      <th>Male</th>\n",
       "      <td>0.731494</td>\n",
       "    </tr>\n",
       "  </tbody>\n",
       "</table>\n",
       "</div>"
      ],
      "text/plain": [
       "        approval_rate\n",
       "Gender               \n",
       "Female       0.640203\n",
       "Male         0.731494"
      ]
     },
     "metadata": {},
     "output_type": "display_data"
    }
   ],
   "source": [
    "display(dataset.groupby(\"Gender\").agg(approval_rate=(\"Loan_Status\", \"mean\")))"
   ]
  },
  {
   "cell_type": "markdown",
   "metadata": {},
   "source": [
    "<code style=\"font-family: Karma, sans-serif; background:#a7fe01;color:black\">We can see that women have a lower approval rate in the training data.</code>\n"
   ]
  },
  {
   "cell_type": "code",
   "execution_count": 29,
   "metadata": {},
   "outputs": [],
   "source": [
    "# from https://fairlearn.org/main/auto_examples/plot_credit_loan_decisions.html\n",
    "\n",
    "\n",
    "def resample_training_data(X, y, A):\n",
    "    \"\"\"Down-sample the majority class in the training dataset to produce a\n",
    "    balanced dataset with a 50/50 split in the predictive labels.\n",
    "\n",
    "    Parameters:\n",
    "    X: The training split of the features\n",
    "    y: The training split of the target labels\n",
    "    A: The training split of the sensitive features\n",
    "\n",
    "    Returns:\n",
    "    Tuple of X_train, Y_train, A_train where each dataset has been re-balanced.\n",
    "    \"\"\"\n",
    "    common_indices = X.index.intersection(y.index).intersection(A.index)\n",
    "    X = X.loc[common_indices, :]\n",
    "    y = y.loc[common_indices]\n",
    "    A = A.loc[common_indices]\n",
    "\n",
    "    negative_ids = y[y == 0].index\n",
    "    positive_ids = y[y == 1].index\n",
    "    balanced_ids = positive_ids.union(\n",
    "        np.random.choice(a=negative_ids, size=len(positive_ids))\n",
    "    )\n",
    "\n",
    "    X_resampled = X.loc[balanced_ids, :]\n",
    "    y_resampled = y.loc[balanced_ids]\n",
    "    A_resampled = A.loc[balanced_ids]\n",
    "    return X_resampled, y_resampled, A_resampled"
   ]
  },
  {
   "cell_type": "markdown",
   "metadata": {},
   "source": [
    "<code style=\"font-family: Karma, sans-serif; background:#a7fe01;color:black\">We resample our data to use a 50% threshold for classifying a label as approved or rejected.</code>\n"
   ]
  },
  {
   "cell_type": "code",
   "execution_count": 30,
   "metadata": {},
   "outputs": [
    {
     "name": "stdout",
     "output_type": "stream",
     "text": [
      "Average approval rate before resampling: 70.89%\n",
      "Average approval rate after resampling: 50.00%\n"
     ]
    }
   ],
   "source": [
    "# Load your dataset and preprocess it\n",
    "X = dataset.drop([\"Loan_ID\"] + sensitive_columns, axis=1)\n",
    "y = X.pop(\"Loan_Status\")\n",
    "A = X.pop(\"Sensitive_Group\")\n",
    "\n",
    "# Split your data into an initial train and test set\n",
    "ix_train, ix_test = train_test_split(\n",
    "    X.index, test_size=0.3, random_state=42, stratify=y\n",
    ")\n",
    "\n",
    "print(f\"Average approval rate before resampling: {y.mean():.2%}\")\n",
    "\n",
    "# Resample your training data for balancing\n",
    "X_train, y_train, A_train = resample_training_data(\n",
    "    X.loc[ix_train], y.loc[ix_train], A.loc[ix_train]\n",
    ")\n",
    "\n",
    "# Resample your test data to ensure consistency in rebalancing\n",
    "X_test, y_test, A_test = resample_training_data(\n",
    "    X.loc[ix_test], y.loc[ix_test], A.loc[ix_test]\n",
    ")\n",
    "\n",
    "# Concatenate the resampled data to have complete X, y, and A\n",
    "X_b, y_b, A_b = (\n",
    "    pd.concat([X_train, X_test]),\n",
    "    pd.concat([y_train, y_test]),\n",
    "    pd.concat([A_train, A_test]),\n",
    ")\n",
    "\n",
    "X_b.reset_index(drop=True, inplace=True)\n",
    "y_b.reset_index(drop=True, inplace=True)\n",
    "A_b.reset_index(drop=True, inplace=True)\n",
    "\n",
    "# Assign indexes on new data\n",
    "ix_train_b, ix_test_b = y_train.index, y_test.index\n",
    "\n",
    "print(f\"Average approval rate after resampling: {y_b.mean():.2%}\")\n",
    "\n",
    "# Convert categorical features to category data type\n",
    "for cat in categorical_features:\n",
    "    X_b[cat] = X_b[cat].astype(\"category\")"
   ]
  },
  {
   "cell_type": "markdown",
   "metadata": {},
   "source": [
    "<h4>Fairness Unaware Model</h4>"
   ]
  },
  {
   "cell_type": "code",
   "execution_count": 41,
   "metadata": {},
   "outputs": [
    {
     "name": "stderr",
     "output_type": "stream",
     "text": [
      "[I 2023-11-06 21:14:33,514] A new study created in memory with name: no-name-8b1657af-391f-43ed-ac50-0299f7832b87\n",
      "[I 2023-11-06 21:14:34,539] Trial 0 finished with value: 0.752321181918692 and parameters: {'n_estimators': 67, 'learning_rate': 0.1, 'max_depth': 4, 'gamma': 0.7000000000000001, 'subsample': 0.6, 'colsample_bytree': 0.95, 'min_child_weight': 23, 'alpha': 15.235, 'lambda': 3.96, 'grow_policy': 'lossguide'}. Best is trial 0 with value: 0.752321181918692.\n",
      "[I 2023-11-06 21:14:35,073] Trial 1 finished with value: 0.7464887496046787 and parameters: {'n_estimators': 23, 'learning_rate': 0.45000000000000007, 'max_depth': 8, 'gamma': 0.9, 'subsample': 0.55, 'colsample_bytree': 0.55, 'min_child_weight': 39, 'alpha': 8.455, 'lambda': 15.395, 'grow_policy': 'lossguide'}. Best is trial 0 with value: 0.752321181918692.\n",
      "[I 2023-11-06 21:14:35,366] Trial 2 finished with value: 0.7321557058896484 and parameters: {'n_estimators': 6, 'learning_rate': 0.2, 'max_depth': 14, 'gamma': 0.2, 'subsample': 0.95, 'colsample_bytree': 0.6, 'min_child_weight': 21, 'alpha': 11.36, 'lambda': 23.97, 'grow_policy': 'depthwise'}. Best is trial 0 with value: 0.752321181918692.\n",
      "[I 2023-11-06 21:14:36,078] Trial 3 finished with value: 0.7473192779416016 and parameters: {'n_estimators': 34, 'learning_rate': 0.5, 'max_depth': 11, 'gamma': 0.2, 'subsample': 0.55, 'colsample_bytree': 0.89, 'min_child_weight': 16, 'alpha': 27.830000000000002, 'lambda': 22.05, 'grow_policy': 'lossguide'}. Best is trial 0 with value: 0.752321181918692.\n",
      "[I 2023-11-06 21:14:36,611] Trial 4 finished with value: 0.7343930280926723 and parameters: {'n_estimators': 56, 'learning_rate': 0.35, 'max_depth': 1, 'gamma': 0.6000000000000001, 'subsample': 0.9, 'colsample_bytree': 0.66, 'min_child_weight': 17, 'alpha': 25.21, 'lambda': 12.47, 'grow_policy': 'lossguide'}. Best is trial 0 with value: 0.752321181918692.\n",
      "[I 2023-11-06 21:14:37,763] Trial 5 finished with value: 0.755519668002661 and parameters: {'n_estimators': 72, 'learning_rate': 0.5, 'max_depth': 11, 'gamma': 0.1, 'subsample': 0.75, 'colsample_bytree': 0.52, 'min_child_weight': 3, 'alpha': 22.755, 'lambda': 10.48, 'grow_policy': 'lossguide'}. Best is trial 5 with value: 0.755519668002661.\n",
      "[I 2023-11-06 21:14:38,484] Trial 6 finished with value: 0.746682461752884 and parameters: {'n_estimators': 33, 'learning_rate': 0.25, 'max_depth': 11, 'gamma': 1.0, 'subsample': 0.6, 'colsample_bytree': 0.59, 'min_child_weight': 23, 'alpha': 4.695, 'lambda': 16.945, 'grow_policy': 'lossguide'}. Best is trial 5 with value: 0.755519668002661.\n",
      "[I 2023-11-06 21:14:39,651] Trial 7 finished with value: 0.7475919477943532 and parameters: {'n_estimators': 94, 'learning_rate': 0.30000000000000004, 'max_depth': 5, 'gamma': 0.6000000000000001, 'subsample': 0.6, 'colsample_bytree': 0.97, 'min_child_weight': 45, 'alpha': 10.450000000000001, 'lambda': 4.255, 'grow_policy': 'depthwise'}. Best is trial 5 with value: 0.755519668002661.\n",
      "[I 2023-11-06 21:14:40,205] Trial 8 finished with value: 0.7467984424343149 and parameters: {'n_estimators': 38, 'learning_rate': 0.30000000000000004, 'max_depth': 4, 'gamma': 0.9, 'subsample': 0.7, 'colsample_bytree': 0.79, 'min_child_weight': 42, 'alpha': 21.23, 'lambda': 8.085, 'grow_policy': 'lossguide'}. Best is trial 5 with value: 0.755519668002661.\n",
      "[I 2023-11-06 21:14:40,734] Trial 9 finished with value: 0.7346408507959851 and parameters: {'n_estimators': 16, 'learning_rate': 0.5, 'max_depth': 15, 'gamma': 1.0, 'subsample': 0.65, 'colsample_bytree': 0.5, 'min_child_weight': 19, 'alpha': 4.505, 'lambda': 29.67, 'grow_policy': 'lossguide'}. Best is trial 5 with value: 0.755519668002661.\n",
      "[I 2023-11-06 21:14:42,063] Trial 10 finished with value: 0.7290007246048326 and parameters: {'n_estimators': 83, 'learning_rate': 0.4, 'max_depth': 11, 'gamma': 0.0, 'subsample': 0.8, 'colsample_bytree': 0.73, 'min_child_weight': 2, 'alpha': 20.695, 'lambda': 9.93, 'grow_policy': 'depthwise'}. Best is trial 5 with value: 0.755519668002661.\n",
      "[I 2023-11-06 21:14:43,792] Trial 11 finished with value: 0.734433328399163 and parameters: {'n_estimators': 68, 'learning_rate': 0.15000000000000002, 'max_depth': 7, 'gamma': 0.4, 'subsample': 0.75, 'colsample_bytree': 0.8400000000000001, 'min_child_weight': 1, 'alpha': 17.28, 'lambda': 1.6300000000000001, 'grow_policy': 'lossguide'}. Best is trial 5 with value: 0.755519668002661.\n",
      "[I 2023-11-06 21:14:44,264] Trial 12 finished with value: 0.7176713951116235 and parameters: {'n_estimators': 73, 'learning_rate': 0.1, 'max_depth': 1, 'gamma': 0.7000000000000001, 'subsample': 0.8500000000000001, 'colsample_bytree': 0.97, 'min_child_weight': 31, 'alpha': 14.875, 'lambda': 5.985, 'grow_policy': 'lossguide'}. Best is trial 5 with value: 0.755519668002661.\n",
      "[I 2023-11-06 21:14:45,461] Trial 13 finished with value: 0.7492025226799852 and parameters: {'n_estimators': 55, 'learning_rate': 0.1, 'max_depth': 5, 'gamma': 0.4, 'subsample': 0.7, 'colsample_bytree': 0.71, 'min_child_weight': 9, 'alpha': 22.23, 'lambda': 0.17, 'grow_policy': 'lossguide'}. Best is trial 5 with value: 0.755519668002661.\n",
      "[I 2023-11-06 21:14:47,619] Trial 14 finished with value: 0.6307853168568236 and parameters: {'n_estimators': 99, 'learning_rate': 0.4, 'max_depth': 13, 'gamma': 0.0, 'subsample': 1.0, 'colsample_bytree': 0.87, 'min_child_weight': 34, 'alpha': 0.2, 'lambda': 11.07, 'grow_policy': 'depthwise'}. Best is trial 5 with value: 0.755519668002661.\n",
      "[I 2023-11-06 21:14:48,499] Trial 15 finished with value: 0.7509807267911981 and parameters: {'n_estimators': 72, 'learning_rate': 0.2, 'max_depth': 3, 'gamma': 0.2, 'subsample': 0.5, 'colsample_bytree': 1.0, 'min_child_weight': 10, 'alpha': 15.735000000000001, 'lambda': 4.9, 'grow_policy': 'lossguide'}. Best is trial 5 with value: 0.755519668002661.\n",
      "[I 2023-11-06 21:14:49,604] Trial 16 finished with value: 0.7510627874454692 and parameters: {'n_estimators': 84, 'learning_rate': 0.25, 'max_depth': 9, 'gamma': 0.7000000000000001, 'subsample': 0.8, 'colsample_bytree': 0.67, 'min_child_weight': 28, 'alpha': 18.355, 'lambda': 18.27, 'grow_policy': 'lossguide'}. Best is trial 5 with value: 0.755519668002661.\n",
      "[I 2023-11-06 21:14:50,305] Trial 17 finished with value: 0.7606804791577519 and parameters: {'n_estimators': 46, 'learning_rate': 0.4, 'max_depth': 7, 'gamma': 0.4, 'subsample': 0.65, 'colsample_bytree': 0.8, 'min_child_weight': 9, 'alpha': 29.84, 'lambda': 7.74, 'grow_policy': 'lossguide'}. Best is trial 17 with value: 0.7606804791577519.\n",
      "[I 2023-11-06 21:14:50,890] Trial 18 finished with value: 0.750902807188947 and parameters: {'n_estimators': 49, 'learning_rate': 0.45000000000000007, 'max_depth': 9, 'gamma': 0.30000000000000004, 'subsample': 0.75, 'colsample_bytree': 0.8, 'min_child_weight': 8, 'alpha': 29.45, 'lambda': 13.185, 'grow_policy': 'depthwise'}. Best is trial 17 with value: 0.7606804791577519.\n",
      "[I 2023-11-06 21:14:51,726] Trial 19 finished with value: 0.7455830973660353 and parameters: {'n_estimators': 48, 'learning_rate': 0.4, 'max_depth': 7, 'gamma': 0.1, 'subsample': 0.7, 'colsample_bytree': 0.76, 'min_child_weight': 50, 'alpha': 25.53, 'lambda': 7.36, 'grow_policy': 'lossguide'}. Best is trial 17 with value: 0.7606804791577519.\n",
      "[I 2023-11-06 21:14:52,602] Trial 20 finished with value: 0.7559228489353162 and parameters: {'n_estimators': 60, 'learning_rate': 0.45000000000000007, 'max_depth': 12, 'gamma': 0.4, 'subsample': 0.8500000000000001, 'colsample_bytree': 0.5, 'min_child_weight': 5, 'alpha': 25.01, 'lambda': 20.375, 'grow_policy': 'lossguide'}. Best is trial 17 with value: 0.7606804791577519.\n",
      "[I 2023-11-06 21:14:53,497] Trial 21 finished with value: 0.7594726971887463 and parameters: {'n_estimators': 64, 'learning_rate': 0.45000000000000007, 'max_depth': 12, 'gamma': 0.4, 'subsample': 0.8500000000000001, 'colsample_bytree': 0.51, 'min_child_weight': 5, 'alpha': 24.900000000000002, 'lambda': 20.17, 'grow_policy': 'lossguide'}. Best is trial 17 with value: 0.7606804791577519.\n",
      "[I 2023-11-06 21:14:54,260] Trial 22 finished with value: 0.7649436050450402 and parameters: {'n_estimators': 62, 'learning_rate': 0.45000000000000007, 'max_depth': 13, 'gamma': 0.4, 'subsample': 0.8500000000000001, 'colsample_bytree': 0.59, 'min_child_weight': 14, 'alpha': 26.465, 'lambda': 21.025000000000002, 'grow_policy': 'lossguide'}. Best is trial 22 with value: 0.7649436050450402.\n",
      "[I 2023-11-06 21:14:55,013] Trial 23 finished with value: 0.7487837870276947 and parameters: {'n_estimators': 45, 'learning_rate': 0.35, 'max_depth': 15, 'gamma': 0.5, 'subsample': 0.8500000000000001, 'colsample_bytree': 0.58, 'min_child_weight': 13, 'alpha': 29.425, 'lambda': 25.825, 'grow_policy': 'lossguide'}. Best is trial 22 with value: 0.7649436050450402.\n",
      "[I 2023-11-06 21:14:55,852] Trial 24 finished with value: 0.741450701868281 and parameters: {'n_estimators': 59, 'learning_rate': 0.35, 'max_depth': 13, 'gamma': 0.5, 'subsample': 0.9, 'colsample_bytree': 0.64, 'min_child_weight': 13, 'alpha': 26.825, 'lambda': 19.905, 'grow_policy': 'lossguide'}. Best is trial 22 with value: 0.7649436050450402.\n",
      "[I 2023-11-06 21:14:56,684] Trial 25 finished with value: 0.7470004070073092 and parameters: {'n_estimators': 82, 'learning_rate': 0.45000000000000007, 'max_depth': 9, 'gamma': 0.30000000000000004, 'subsample': 0.95, 'colsample_bytree': 0.56, 'min_child_weight': 7, 'alpha': 24.295, 'lambda': 26.725, 'grow_policy': 'lossguide'}. Best is trial 22 with value: 0.7649436050450402.\n",
      "[I 2023-11-06 21:14:57,319] Trial 26 finished with value: 0.7578896897041708 and parameters: {'n_estimators': 42, 'learning_rate': 0.4, 'max_depth': 13, 'gamma': 0.30000000000000004, 'subsample': 0.8, 'colsample_bytree': 0.63, 'min_child_weight': 12, 'alpha': 28.265, 'lambda': 15.05, 'grow_policy': 'depthwise'}. Best is trial 22 with value: 0.7649436050450402.\n",
      "[I 2023-11-06 21:14:58,003] Trial 27 finished with value: 0.7453908499481752 and parameters: {'n_estimators': 64, 'learning_rate': 0.45000000000000007, 'max_depth': 7, 'gamma': 0.6000000000000001, 'subsample': 0.9, 'colsample_bytree': 0.8200000000000001, 'min_child_weight': 15, 'alpha': 18.925, 'lambda': 22.165, 'grow_policy': 'lossguide'}. Best is trial 22 with value: 0.7649436050450402.\n",
      "[I 2023-11-06 21:14:58,588] Trial 28 finished with value: 0.7652079823188073 and parameters: {'n_estimators': 25, 'learning_rate': 0.5, 'max_depth': 10, 'gamma': 0.4, 'subsample': 1.0, 'colsample_bytree': 0.7, 'min_child_weight': 6, 'alpha': 29.8, 'lambda': 17.635, 'grow_policy': 'lossguide'}. Best is trial 28 with value: 0.7652079823188073.\n",
      "[I 2023-11-06 21:14:59,097] Trial 29 finished with value: 0.7504609346265171 and parameters: {'n_estimators': 17, 'learning_rate': 0.5, 'max_depth': 10, 'gamma': 0.5, 'subsample': 1.0, 'colsample_bytree': 0.69, 'min_child_weight': 27, 'alpha': 29.975, 'lambda': 17.56, 'grow_policy': 'lossguide'}. Best is trial 28 with value: 0.7652079823188073.\n",
      "[I 2023-11-06 21:14:59,579] Trial 30 finished with value: 0.7389699682877721 and parameters: {'n_estimators': 27, 'learning_rate': 0.5, 'max_depth': 6, 'gamma': 0.5, 'subsample': 0.65, 'colsample_bytree': 0.76, 'min_child_weight': 24, 'alpha': 27.17, 'lambda': 13.185, 'grow_policy': 'lossguide'}. Best is trial 28 with value: 0.7652079823188073.\n",
      "[I 2023-11-06 21:15:00,321] Trial 31 finished with value: 0.7571170650256168 and parameters: {'n_estimators': 65, 'learning_rate': 0.45000000000000007, 'max_depth': 12, 'gamma': 0.4, 'subsample': 0.95, 'colsample_bytree': 0.54, 'min_child_weight': 4, 'alpha': 23.77, 'lambda': 19.525000000000002, 'grow_policy': 'lossguide'}. Best is trial 28 with value: 0.7652079823188073.\n",
      "[I 2023-11-06 21:15:01,083] Trial 32 finished with value: 0.7467754697233725 and parameters: {'n_estimators': 52, 'learning_rate': 0.4, 'max_depth': 10, 'gamma': 0.30000000000000004, 'subsample': 1.0, 'colsample_bytree': 0.61, 'min_child_weight': 5, 'alpha': 27.205000000000002, 'lambda': 16.135, 'grow_policy': 'lossguide'}. Best is trial 28 with value: 0.7652079823188073.\n",
      "[I 2023-11-06 21:15:01,504] Trial 33 finished with value: 0.7488566238105611 and parameters: {'n_estimators': 10, 'learning_rate': 0.45000000000000007, 'max_depth': 14, 'gamma': 0.4, 'subsample': 0.65, 'colsample_bytree': 0.91, 'min_child_weight': 10, 'alpha': 25.66, 'lambda': 22.005, 'grow_policy': 'lossguide'}. Best is trial 28 with value: 0.7652079823188073.\n",
      "[I 2023-11-06 21:15:02,057] Trial 34 finished with value: 0.746588501697204 and parameters: {'n_estimators': 25, 'learning_rate': 0.5, 'max_depth': 8, 'gamma': 0.2, 'subsample': 0.95, 'colsample_bytree': 0.56, 'min_child_weight': 20, 'alpha': 28.55, 'lambda': 23.47, 'grow_policy': 'lossguide'}. Best is trial 28 with value: 0.7652079823188073.\n",
      "[I 2023-11-06 21:15:02,805] Trial 35 finished with value: 0.7512547576580844 and parameters: {'n_estimators': 33, 'learning_rate': 0.35, 'max_depth': 12, 'gamma': 0.5, 'subsample': 0.9, 'colsample_bytree': 0.73, 'min_child_weight': 7, 'alpha': 26.59, 'lambda': 18.525000000000002, 'grow_policy': 'lossguide'}. Best is trial 28 with value: 0.7652079823188073.\n",
      "[I 2023-11-06 21:15:03,464] Trial 36 finished with value: 0.7496149500738502 and parameters: {'n_estimators': 79, 'learning_rate': 0.5, 'max_depth': 10, 'gamma': 0.8, 'subsample': 0.55, 'colsample_bytree': 0.67, 'min_child_weight': 17, 'alpha': 23.77, 'lambda': 25.88, 'grow_policy': 'lossguide'}. Best is trial 28 with value: 0.7652079823188073.\n",
      "[I 2023-11-06 21:15:04,199] Trial 37 finished with value: 0.7459415984832638 and parameters: {'n_estimators': 37, 'learning_rate': 0.45000000000000007, 'max_depth': 14, 'gamma': 0.6000000000000001, 'subsample': 0.8500000000000001, 'colsample_bytree': 0.63, 'min_child_weight': 1, 'alpha': 29.88, 'lambda': 14.15, 'grow_policy': 'lossguide'}. Best is trial 28 with value: 0.7652079823188073.\n",
      "[I 2023-11-06 21:15:04,938] Trial 38 finished with value: 0.7428903649576102 and parameters: {'n_estimators': 61, 'learning_rate': 0.4, 'max_depth': 8, 'gamma': 0.30000000000000004, 'subsample': 0.8, 'colsample_bytree': 0.86, 'min_child_weight': 11, 'alpha': 20.5, 'lambda': 16.0, 'grow_policy': 'depthwise'}. Best is trial 28 with value: 0.7652079823188073.\n",
      "[I 2023-11-06 21:15:05,719] Trial 39 finished with value: 0.7604343105377439 and parameters: {'n_estimators': 29, 'learning_rate': 0.5, 'max_depth': 11, 'gamma': 0.1, 'subsample': 0.75, 'colsample_bytree': 0.53, 'min_child_weight': 15, 'alpha': 13.69, 'lambda': 23.830000000000002, 'grow_policy': 'lossguide'}. Best is trial 28 with value: 0.7652079823188073.\n",
      "[I 2023-11-06 21:15:06,238] Trial 40 finished with value: 0.7593700764056452 and parameters: {'n_estimators': 18, 'learning_rate': 0.5, 'max_depth': 11, 'gamma': 0.2, 'subsample': 0.7, 'colsample_bytree': 0.53, 'min_child_weight': 14, 'alpha': 13.425, 'lambda': 29.295, 'grow_policy': 'lossguide'}. Best is trial 28 with value: 0.7652079823188073.\n",
      "[I 2023-11-06 21:15:07,005] Trial 41 finished with value: 0.7327100107374568 and parameters: {'n_estimators': 28, 'learning_rate': 0.45000000000000007, 'max_depth': 12, 'gamma': 0.4, 'subsample': 0.75, 'colsample_bytree': 0.58, 'min_child_weight': 18, 'alpha': 8.19, 'lambda': 20.95, 'grow_policy': 'lossguide'}. Best is trial 28 with value: 0.7652079823188073.\n",
      "[I 2023-11-06 21:15:07,861] Trial 42 finished with value: 0.7488295623042592 and parameters: {'n_estimators': 40, 'learning_rate': 0.5, 'max_depth': 10, 'gamma': 0.2, 'subsample': 0.75, 'colsample_bytree': 0.51, 'min_child_weight': 6, 'alpha': 12.450000000000001, 'lambda': 23.59, 'grow_policy': 'lossguide'}. Best is trial 28 with value: 0.7652079823188073.\n",
      "[I 2023-11-06 21:15:08,351] Trial 43 finished with value: 0.7337578321012017 and parameters: {'n_estimators': 21, 'learning_rate': 0.5, 'max_depth': 13, 'gamma': 0.1, 'subsample': 0.6, 'colsample_bytree': 0.54, 'min_child_weight': 3, 'alpha': 28.13, 'lambda': 24.97, 'grow_policy': 'lossguide'}. Best is trial 28 with value: 0.7652079823188073.\n",
      "[I 2023-11-06 21:15:08,722] Trial 44 finished with value: 0.7318226666086762 and parameters: {'n_estimators': 13, 'learning_rate': 0.4, 'max_depth': 11, 'gamma': 0.6000000000000001, 'subsample': 0.65, 'colsample_bytree': 0.6, 'min_child_weight': 21, 'alpha': 21.965, 'lambda': 22.645, 'grow_policy': 'lossguide'}. Best is trial 28 with value: 0.7652079823188073.\n",
      "[I 2023-11-06 21:15:09,435] Trial 45 finished with value: 0.752002381223498 and parameters: {'n_estimators': 30, 'learning_rate': 0.5, 'max_depth': 9, 'gamma': 0.30000000000000004, 'subsample': 0.8, 'colsample_bytree': 0.78, 'min_child_weight': 9, 'alpha': 15.935, 'lambda': 21.14, 'grow_policy': 'lossguide'}. Best is trial 28 with value: 0.7652079823188073.\n",
      "[I 2023-11-06 21:15:09,718] Trial 46 finished with value: 0.7475317154492304 and parameters: {'n_estimators': 7, 'learning_rate': 0.45000000000000007, 'max_depth': 14, 'gamma': 0.1, 'subsample': 0.95, 'colsample_bytree': 0.52, 'min_child_weight': 16, 'alpha': 9.255, 'lambda': 27.835, 'grow_policy': 'depthwise'}. Best is trial 28 with value: 0.7652079823188073.\n",
      "[I 2023-11-06 21:15:10,237] Trial 47 finished with value: 0.7361189366625365 and parameters: {'n_estimators': 22, 'learning_rate': 0.35, 'max_depth': 11, 'gamma': 0.4, 'subsample': 0.8500000000000001, 'colsample_bytree': 0.56, 'min_child_weight': 11, 'alpha': 26.145, 'lambda': 2.46, 'grow_policy': 'lossguide'}. Best is trial 28 with value: 0.7652079823188073.\n",
      "[I 2023-11-06 21:15:11,251] Trial 48 finished with value: 0.7208467539964477 and parameters: {'n_estimators': 55, 'learning_rate': 0.45000000000000007, 'max_depth': 6, 'gamma': 0.0, 'subsample': 0.55, 'colsample_bytree': 0.9199999999999999, 'min_child_weight': 4, 'alpha': 19.490000000000002, 'lambda': 18.725, 'grow_policy': 'lossguide'}. Best is trial 28 with value: 0.7652079823188073.\n",
      "[I 2023-11-06 21:15:12,248] Trial 49 finished with value: 0.7362236892821145 and parameters: {'n_estimators': 68, 'learning_rate': 0.30000000000000004, 'max_depth': 15, 'gamma': 0.8, 'subsample': 0.7, 'colsample_bytree': 0.73, 'min_child_weight': 8, 'alpha': 14.105, 'lambda': 11.165000000000001, 'grow_policy': 'lossguide'}. Best is trial 28 with value: 0.7652079823188073.\n"
     ]
    },
    {
     "name": "stdout",
     "output_type": "stream",
     "text": [
      "Best Hyperparameters: {'n_estimators': 25, 'learning_rate': 0.5, 'max_depth': 10, 'gamma': 0.4, 'subsample': 1.0, 'colsample_bytree': 0.7, 'min_child_weight': 6, 'alpha': 29.8, 'lambda': 17.635, 'grow_policy': 'lossguide'}\n"
     ]
    }
   ],
   "source": [
    "import numpy as np\n",
    "import optuna\n",
    "from sklearn.metrics import accuracy_score, roc_auc_score\n",
    "from sklearn.model_selection import StratifiedKFold\n",
    "from xgboost import XGBClassifier\n",
    "\n",
    "base_params = {\n",
    "    \"base_score\": y_b.loc[ix_train_b].mean(),\n",
    "    \"eval_metric\": [\"auc\"],\n",
    "    \"missing\": np.nan,\n",
    "    \"early_stopping_rounds\": 10,\n",
    "    \"enable_categorical\": True,\n",
    "    \"tree_method\": \"hist\",\n",
    "    \"random_state\": 42,\n",
    "}\n",
    "\n",
    "n_splits = 10\n",
    "\n",
    "\n",
    "def objective(trial):\n",
    "    skf = StratifiedKFold(n_splits=n_splits, shuffle=True, random_state=42)\n",
    "\n",
    "    accuracy_scores = []\n",
    "\n",
    "    for train_idx, val_idx in skf.split(X_b.loc[ix_train_b], y_b.loc[ix_train_b]):\n",
    "        X_train, X_val = (\n",
    "            X_b.loc[ix_train_b].iloc[train_idx],\n",
    "            X_b.loc[ix_train_b].iloc[val_idx],\n",
    "        )\n",
    "        y_train, y_val = (\n",
    "            y_b.loc[ix_train_b].iloc[train_idx],\n",
    "            y_b.loc[ix_train_b].iloc[val_idx],\n",
    "        )\n",
    "\n",
    "        params = {\n",
    "            \"n_estimators\": trial.suggest_int(\"n_estimators\", 5, 100),\n",
    "            \"learning_rate\": trial.suggest_float(\"learning_rate\", 0.1, 0.5, step=0.05),\n",
    "            \"max_depth\": trial.suggest_int(\"max_depth\", 1, 15),\n",
    "            \"gamma\": trial.suggest_float(\"gamma\", 0, 1, step=0.1),\n",
    "            \"subsample\": trial.suggest_float(\"subsample\", 0.5, 1, step=0.05),\n",
    "            \"colsample_bytree\": trial.suggest_float(\n",
    "                \"colsample_bytree\", 0.5, 1, step=0.01\n",
    "            ),\n",
    "            \"min_child_weight\": trial.suggest_int(\"min_child_weight\", 1, 50),\n",
    "            \"alpha\": trial.suggest_float(\"alpha\", 0, 30, step=0.005),\n",
    "            \"lambda\": trial.suggest_float(\"lambda\", 0, 30, step=0.005),\n",
    "            \"grow_policy\": trial.suggest_categorical(\n",
    "                \"grow_policy\", [\"depthwise\", \"lossguide\"]\n",
    "            ),\n",
    "        }\n",
    "\n",
    "        base_params.update(params)\n",
    "\n",
    "        xgb_model = XGBClassifier(**base_params)\n",
    "        xgb_model.fit(X_train, y_train, eval_set=[(X_val, y_val)], verbose=False)\n",
    "\n",
    "        y_pred_xgb_train = xgb_model.predict(X_train)\n",
    "        y_pred_xgb_test = xgb_model.predict(X_val)\n",
    "\n",
    "        train_score = accuracy_score(y_train, y_pred_xgb_train)\n",
    "        test_score = accuracy_score(y_val, y_pred_xgb_test)\n",
    "        \n",
    "        train_err = 1 - train_score\n",
    "        test_err = 1 - test_score\n",
    "        \n",
    "        score = test_score * abs(train_err/test_err)\n",
    "        \n",
    "        accuracy_scores.append(score)\n",
    "\n",
    "    return np.mean(accuracy_scores)\n",
    "\n",
    "\n",
    "# Create an Optuna study and optimize the objective function\n",
    "study = optuna.create_study(direction=\"maximize\")\n",
    "study.optimize(objective, n_trials=50)\n",
    "\n",
    "# Get the best hyperparameters\n",
    "best_params = study.best_params\n",
    "\n",
    "print(\"Best Hyperparameters:\", best_params)"
   ]
  },
  {
   "cell_type": "code",
   "execution_count": 32,
   "metadata": {},
   "outputs": [
    {
     "name": "stdout",
     "output_type": "stream",
     "text": [
      "Train Gini score: 94.27%\n",
      "Test Gini score: 85.22%\n"
     ]
    }
   ],
   "source": [
    "# best_params.update({\"enable_categorical\": True})\n",
    "best_params = {\n",
    "    'n_estimators': 150, \n",
    "    'learning_rate': 0.2, \n",
    "    'max_depth': 10, \n",
    "    'max_leaves': 10, \n",
    "    'gamma': 0, \n",
    "    'subsample': 0.8, \n",
    "    \"enable_categorical\": True,\n",
    "    'grow_policy': 'lossguide'\n",
    "}\n",
    "\n",
    "xgb_clf = XGBClassifier(**best_params)\n",
    "\n",
    "xgb_clf.fit(X_b.loc[ix_train_b], y_b.loc[ix_train_b])\n",
    "\n",
    "predictions_trn = xgb_clf.predict_proba(X_b.loc[ix_train_b])[:, 1]\n",
    "predictions_tst = xgb_clf.predict_proba(X_b.loc[ix_test_b])[:, 1]\n",
    "\n",
    "gini_trn = roc_auc_score(y_b.loc[ix_train_b], predictions_trn) * 2 - 1\n",
    "gini_tst = roc_auc_score(y_b.loc[ix_test_b], predictions_tst) * 2 - 1\n",
    "\n",
    "print(\n",
    "    f\"Train Gini score: {gini_trn:.2%}\\n\" \n",
    "    f\"Test Gini score: {gini_tst:.2%}\"\n",
    ")"
   ]
  },
  {
   "cell_type": "markdown",
   "metadata": {},
   "source": [
    "<h4>ROC Curve</h4>"
   ]
  },
  {
   "cell_type": "code",
   "execution_count": 33,
   "metadata": {},
   "outputs": [],
   "source": [
    "from matplotlib import pyplot as plt\n",
    "from sklearn.metrics import RocCurveDisplay"
   ]
  },
  {
   "cell_type": "code",
   "execution_count": 34,
   "metadata": {},
   "outputs": [],
   "source": [
    "label_column = y_b.loc[ix_train_b].copy()\n",
    "prediction_column = xgb_clf.predict_proba(X_b.loc[ix_train_b])[:, 1]\n",
    "group_column = A_b.loc[ix_train_b].copy()\n",
    "\n",
    "roc_data = pd.DataFrame(\n",
    "    {\"label\": label_column, \"proba\": prediction_column, \"group\": group_column}\n",
    ")"
   ]
  },
  {
   "cell_type": "code",
   "execution_count": 35,
   "metadata": {},
   "outputs": [
    {
     "data": {
      "image/png": "[encoded data removed]",
      "text/plain": [
       "<Figure size 640x480 with 1 Axes>"
      ]
     },
     "metadata": {},
     "output_type": "display_data"
    }
   ],
   "source": [
    "ax_roc_curve = plt.subplot()\n",
    "colors = [\"#fe595f\", \"#52a1ec\"]\n",
    "\n",
    "for group in [0, 1]:\n",
    "    roc_group = roc_data[roc_data[\"group\"] == group]\n",
    "    label = f\"Group {group}\"\n",
    "\n",
    "    RocCurveDisplay.from_predictions(\n",
    "        roc_group[\"label\"],\n",
    "        roc_group[\"proba\"],\n",
    "        name=label,\n",
    "        ax=ax_roc_curve,\n",
    "        color=colors[group],\n",
    "    )"
   ]
  },
  {
   "cell_type": "code",
   "execution_count": 36,
   "metadata": {},
   "outputs": [
    {
     "name": "stdout",
     "output_type": "stream",
     "text": [
      "Eq Odds Unmitigated: 8.97%\n",
      "Accuracy Unmitigated: 84.91%\n",
      "Gini score Unmitigated: 85.22%\n"
     ]
    }
   ],
   "source": [
    "from fairlearn.metrics import equalized_odds_difference\n",
    "\n",
    "equalized_odds_unmitigated = equalized_odds_difference(\n",
    "    y_b.loc[ix_test_b],\n",
    "    xgb_clf.predict(X_b.loc[ix_test_b]),\n",
    "    sensitive_features=A_b.loc[ix_test_b],\n",
    ")\n",
    "print(f\"Eq Odds Unmitigated: {equalized_odds_unmitigated:.2%}\")\n",
    "\n",
    "score_unmitigated = (\n",
    "    roc_auc_score(\n",
    "        y_b.loc[ix_test_b], xgb_clf.predict_proba(X_b.loc[ix_test_b])[:, 1]\n",
    "    )\n",
    "    * 2\n",
    "    - 1\n",
    ")\n",
    "\n",
    "accuracy_unmitigated = accuracy_score(\n",
    "    y_b.loc[ix_test_b], xgb_clf.predict(X_b.loc[ix_test_b])\n",
    ")\n",
    "\n",
    "print(f\"Accuracy Unmitigated: {accuracy_unmitigated:.2%}\")\n",
    "print(f\"Gini score Unmitigated: {score_unmitigated:.2%}\")"
   ]
  },
  {
   "cell_type": "markdown",
   "metadata": {},
   "source": [
    "<h4>Threshold Optimizer</h4>"
   ]
  },
  {
   "cell_type": "code",
   "execution_count": 37,
   "metadata": {},
   "outputs": [],
   "source": [
    "import warnings\n",
    "\n",
    "warnings.simplefilter(\"ignore\", FutureWarning)"
   ]
  },
  {
   "cell_type": "code",
   "execution_count": 38,
   "metadata": {},
   "outputs": [
    {
     "name": "stdout",
     "output_type": "stream",
     "text": [
      "Gini score Unmitigated: 85.22%\n",
      "Eq Odds PostProcess: 5.91%\n",
      "Accuracy PostProcess: 82.58%\n",
      "Gini score PostProcess: 69.13%\n"
     ]
    }
   ],
   "source": [
    "from fairlearn.postprocessing import ThresholdOptimizer\n",
    "\n",
    "postprocess_est = ThresholdOptimizer(\n",
    "    estimator=xgb_clf,\n",
    "    constraints=\"equalized_odds\",  # match TPR and FPR across groups\n",
    "    objective=\"accuracy_score\",\n",
    "    prefit=True,\n",
    "    predict_method=\"auto\",\n",
    "    flip=True\n",
    ")\n",
    "\n",
    "# Fit a ThresholdOptimizer\n",
    "postprocess_est.fit(\n",
    "    X=X_b.loc[ix_train_b], y=y_b.loc[ix_train_b], sensitive_features=A_b.loc[ix_train_b]\n",
    ")\n",
    "\n",
    "postprocess_pred = postprocess_est.predict(\n",
    "    X_b.loc[ix_test_b], sensitive_features=A_b.loc[ix_test_b], random_state=42\n",
    ")\n",
    "\n",
    "postprocess_pred_proba = postprocess_est._pmf_predict(\n",
    "    X_b.loc[ix_test_b], sensitive_features=A_b.loc[ix_test_b]\n",
    ")\n",
    "\n",
    "eq_odds_postprocess = equalized_odds_difference(\n",
    "    y_b.loc[ix_test_b], postprocess_pred, sensitive_features=A_b.loc[ix_test_b]\n",
    ")\n",
    "\n",
    "score_postprocess = (\n",
    "    roc_auc_score(y_b.loc[ix_test_b], postprocess_pred_proba[:, 1]) * 2 - 1\n",
    ")\n",
    "\n",
    "accuracy_postprocess = accuracy_score(y_b.loc[ix_test_b], postprocess_pred)\n",
    "\n",
    "print(f\"Gini score Unmitigated: {score_unmitigated:.2%}\")\n",
    "print(f\"Eq Odds PostProcess: {eq_odds_postprocess:.2%}\")\n",
    "print(f\"Accuracy PostProcess: {accuracy_postprocess:.2%}\")\n",
    "print(f\"Gini score PostProcess: {score_postprocess:.2%}\")"
   ]
  },
  {
   "cell_type": "code",
   "execution_count": 39,
   "metadata": {},
   "outputs": [],
   "source": [
    "label_column = y_b.loc[ix_train_b].copy()\n",
    "prediction_column = xgb_clf.predict_proba(X_b.loc[ix_train_b])[:, 1]\n",
    "postprocess_pred_proba = postprocess_est._pmf_predict(\n",
    "    X_b.loc[ix_train_b], sensitive_features=A_b.loc[ix_train_b]\n",
    ")[:, 1]\n",
    "mitigation_column = postprocess_pred_proba.copy()\n",
    "group_column = A_b.loc[ix_train_b].copy()\n",
    "\n",
    "roc_data = pd.DataFrame(\n",
    "    {\n",
    "        \"label\": label_column,\n",
    "        \"proba\": prediction_column,\n",
    "        \"mitigated_proba\": mitigation_column,\n",
    "        \"group\": group_column,\n",
    "    }\n",
    ")"
   ]
  },
  {
   "cell_type": "code",
   "execution_count": 40,
   "metadata": {},
   "outputs": [
    {
     "data": {
      "image/png": "[encoded data removed]",
      "text/plain": [
       "<Figure size 640x480 with 1 Axes>"
      ]
     },
     "metadata": {},
     "output_type": "display_data"
    }
   ],
   "source": [
    "ax_roc_curve = plt.subplot()\n",
    "colors = [\"#fe595f\", \"#52a1ec\"]\n",
    "\n",
    "for group in [0, 1]:\n",
    "    roc_group = roc_data[roc_data[\"group\"] == group]\n",
    "    label = f\"Group {group}\"\n",
    "\n",
    "    RocCurveDisplay.from_predictions(\n",
    "        roc_group[\"label\"],\n",
    "        roc_group[\"mitigated_proba\"],\n",
    "        name=label,\n",
    "        ax=ax_roc_curve,\n",
    "        color=colors[group],\n",
    "    )"
   ]
  }
 ],
 "metadata": {
  "kernelspec": {
   "display_name": "risk-practitioner-ebook-NcspVTUP-py3.10",
   "language": "python",
   "name": "python3"
  },
  "language_info": {
   "codemirror_mode": {
    "name": "ipython",
    "version": 3
   },
   "file_extension": ".py",
   "mimetype": "text/x-python",
   "name": "python",
   "nbconvert_exporter": "python",
   "pygments_lexer": "ipython3",
   "version": "3.10.12"
  }
 },
 "nbformat": 4,
 "nbformat_minor": 2
}